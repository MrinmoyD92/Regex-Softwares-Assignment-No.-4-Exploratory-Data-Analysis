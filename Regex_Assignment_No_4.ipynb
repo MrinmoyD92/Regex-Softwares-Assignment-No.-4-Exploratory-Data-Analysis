{
  "nbformat": 4,
  "nbformat_minor": 0,
  "metadata": {
    "colab": {
      "name": "Regex Assignment No. 4.ipynb",
      "provenance": [],
      "collapsed_sections": []
    },
    "kernelspec": {
      "display_name": "Python 3",
      "name": "python3"
    },
    "language_info": {
      "name": "python"
    }
  },
  "cells": [
    {
      "cell_type": "markdown",
      "metadata": {
        "id": "AnkcxrD0ENNV"
      },
      "source": [
        "## Name: Mrinmoy M. Dutta\n",
        "## Referral ID: SIRSS2103\n",
        "## College: SIES college of Arts, Science and Commerce"
      ]
    },
    {
      "cell_type": "markdown",
      "metadata": {
        "id": "YQdmztLikf8S"
      },
      "source": [
        "## Assignment No: 4 - US Accidents Exploratory Data Analysis"
      ]
    },
    {
      "cell_type": "code",
      "metadata": {
        "id": "7O6-Y-9-ErTk"
      },
      "source": [
        "import numpy as np\n",
        "import pandas as pd\n",
        "import seaborn as sns\n",
        "import matplotlib.pyplot as plt\n",
        "%matplotlib inline"
      ],
      "execution_count": 1,
      "outputs": []
    },
    {
      "cell_type": "code",
      "metadata": {
        "id": "8eoUUWFrmd5x"
      },
      "source": [
        "pip install opendatasets --upgrade --quiet"
      ],
      "execution_count": 2,
      "outputs": []
    },
    {
      "cell_type": "code",
      "metadata": {
        "id": "V16vhOtRmgpq"
      },
      "source": [
        "import opendatasets as od"
      ],
      "execution_count": 3,
      "outputs": []
    },
    {
      "cell_type": "code",
      "metadata": {
        "colab": {
          "base_uri": "https://localhost:8080/"
        },
        "id": "DukMVCC-muUV",
        "outputId": "96f56694-6e5d-4776-ec37-dac2cf6afea7"
      },
      "source": [
        "download_url = 'https://www.kaggle.com/sobhanmoosavi/us-accidents'\n",
        "od.download(download_url)"
      ],
      "execution_count": 4,
      "outputs": [
        {
          "output_type": "stream",
          "name": "stdout",
          "text": [
            "Skipping, found downloaded files in \"./us-accidents\" (use force=True to force download)\n"
          ]
        }
      ]
    },
    {
      "cell_type": "code",
      "metadata": {
        "id": "hfqu8W-sJ7tj"
      },
      "source": [
        "data_filename = './us-accidents/US_Accidents_Dec20_updated.csv'"
      ],
      "execution_count": 5,
      "outputs": []
    },
    {
      "cell_type": "markdown",
      "metadata": {
        "id": "J48J55OlFCAe"
      },
      "source": [
        "## Data Preparation and Cleaning"
      ]
    },
    {
      "cell_type": "code",
      "metadata": {
        "id": "mNtQi7B6Rby0"
      },
      "source": [
        "df = pd.read_csv(data_filename)"
      ],
      "execution_count": 6,
      "outputs": []
    },
    {
      "cell_type": "code",
      "metadata": {
        "colab": {
          "base_uri": "https://localhost:8080/",
          "height": 425
        },
        "id": "9EoYezkERd3T",
        "outputId": "bc9f0aba-918f-4e9b-c18a-32f7e0d0f648"
      },
      "source": [
        "df.head()"
      ],
      "execution_count": 7,
      "outputs": [
        {
          "output_type": "execute_result",
          "data": {
            "text/html": [
              "<div>\n",
              "<style scoped>\n",
              "    .dataframe tbody tr th:only-of-type {\n",
              "        vertical-align: middle;\n",
              "    }\n",
              "\n",
              "    .dataframe tbody tr th {\n",
              "        vertical-align: top;\n",
              "    }\n",
              "\n",
              "    .dataframe thead th {\n",
              "        text-align: right;\n",
              "    }\n",
              "</style>\n",
              "<table border=\"1\" class=\"dataframe\">\n",
              "  <thead>\n",
              "    <tr style=\"text-align: right;\">\n",
              "      <th></th>\n",
              "      <th>ID</th>\n",
              "      <th>Severity</th>\n",
              "      <th>Start_Time</th>\n",
              "      <th>End_Time</th>\n",
              "      <th>Start_Lat</th>\n",
              "      <th>Start_Lng</th>\n",
              "      <th>End_Lat</th>\n",
              "      <th>End_Lng</th>\n",
              "      <th>Distance(mi)</th>\n",
              "      <th>Description</th>\n",
              "      <th>Number</th>\n",
              "      <th>Street</th>\n",
              "      <th>Side</th>\n",
              "      <th>City</th>\n",
              "      <th>County</th>\n",
              "      <th>State</th>\n",
              "      <th>Zipcode</th>\n",
              "      <th>Country</th>\n",
              "      <th>Timezone</th>\n",
              "      <th>Airport_Code</th>\n",
              "      <th>Weather_Timestamp</th>\n",
              "      <th>Temperature(F)</th>\n",
              "      <th>Wind_Chill(F)</th>\n",
              "      <th>Humidity(%)</th>\n",
              "      <th>Pressure(in)</th>\n",
              "      <th>Visibility(mi)</th>\n",
              "      <th>Wind_Direction</th>\n",
              "      <th>Wind_Speed(mph)</th>\n",
              "      <th>Precipitation(in)</th>\n",
              "      <th>Weather_Condition</th>\n",
              "      <th>Amenity</th>\n",
              "      <th>Bump</th>\n",
              "      <th>Crossing</th>\n",
              "      <th>Give_Way</th>\n",
              "      <th>Junction</th>\n",
              "      <th>No_Exit</th>\n",
              "      <th>Railway</th>\n",
              "      <th>Roundabout</th>\n",
              "      <th>Station</th>\n",
              "      <th>Stop</th>\n",
              "      <th>Traffic_Calming</th>\n",
              "      <th>Traffic_Signal</th>\n",
              "      <th>Turning_Loop</th>\n",
              "      <th>Sunrise_Sunset</th>\n",
              "      <th>Civil_Twilight</th>\n",
              "      <th>Nautical_Twilight</th>\n",
              "      <th>Astronomical_Twilight</th>\n",
              "    </tr>\n",
              "  </thead>\n",
              "  <tbody>\n",
              "    <tr>\n",
              "      <th>0</th>\n",
              "      <td>A-2716600</td>\n",
              "      <td>3</td>\n",
              "      <td>2016-02-08 00:37:08</td>\n",
              "      <td>2016-02-08 06:37:08</td>\n",
              "      <td>40.10891</td>\n",
              "      <td>-83.09286</td>\n",
              "      <td>40.11206</td>\n",
              "      <td>-83.03187</td>\n",
              "      <td>3.230</td>\n",
              "      <td>Between Sawmill Rd/Exit 20 and OH-315/Olentang...</td>\n",
              "      <td>NaN</td>\n",
              "      <td>Outerbelt E</td>\n",
              "      <td>R</td>\n",
              "      <td>Dublin</td>\n",
              "      <td>Franklin</td>\n",
              "      <td>OH</td>\n",
              "      <td>43017</td>\n",
              "      <td>US</td>\n",
              "      <td>US/Eastern</td>\n",
              "      <td>KOSU</td>\n",
              "      <td>2016-02-08 00:53:00</td>\n",
              "      <td>42.1</td>\n",
              "      <td>36.1</td>\n",
              "      <td>58.0</td>\n",
              "      <td>29.76</td>\n",
              "      <td>10.0</td>\n",
              "      <td>SW</td>\n",
              "      <td>10.4</td>\n",
              "      <td>0.00</td>\n",
              "      <td>Light Rain</td>\n",
              "      <td>False</td>\n",
              "      <td>False</td>\n",
              "      <td>False</td>\n",
              "      <td>False</td>\n",
              "      <td>False</td>\n",
              "      <td>False</td>\n",
              "      <td>False</td>\n",
              "      <td>False</td>\n",
              "      <td>False</td>\n",
              "      <td>False</td>\n",
              "      <td>False</td>\n",
              "      <td>False</td>\n",
              "      <td>False</td>\n",
              "      <td>Night</td>\n",
              "      <td>Night</td>\n",
              "      <td>Night</td>\n",
              "      <td>Night</td>\n",
              "    </tr>\n",
              "    <tr>\n",
              "      <th>1</th>\n",
              "      <td>A-2716601</td>\n",
              "      <td>2</td>\n",
              "      <td>2016-02-08 05:56:20</td>\n",
              "      <td>2016-02-08 11:56:20</td>\n",
              "      <td>39.86542</td>\n",
              "      <td>-84.06280</td>\n",
              "      <td>39.86501</td>\n",
              "      <td>-84.04873</td>\n",
              "      <td>0.747</td>\n",
              "      <td>At OH-4/OH-235/Exit 41 - Accident.</td>\n",
              "      <td>NaN</td>\n",
              "      <td>I-70 E</td>\n",
              "      <td>R</td>\n",
              "      <td>Dayton</td>\n",
              "      <td>Montgomery</td>\n",
              "      <td>OH</td>\n",
              "      <td>45424</td>\n",
              "      <td>US</td>\n",
              "      <td>US/Eastern</td>\n",
              "      <td>KFFO</td>\n",
              "      <td>2016-02-08 05:58:00</td>\n",
              "      <td>36.9</td>\n",
              "      <td>NaN</td>\n",
              "      <td>91.0</td>\n",
              "      <td>29.68</td>\n",
              "      <td>10.0</td>\n",
              "      <td>Calm</td>\n",
              "      <td>NaN</td>\n",
              "      <td>0.02</td>\n",
              "      <td>Light Rain</td>\n",
              "      <td>False</td>\n",
              "      <td>False</td>\n",
              "      <td>False</td>\n",
              "      <td>False</td>\n",
              "      <td>False</td>\n",
              "      <td>False</td>\n",
              "      <td>False</td>\n",
              "      <td>False</td>\n",
              "      <td>False</td>\n",
              "      <td>False</td>\n",
              "      <td>False</td>\n",
              "      <td>False</td>\n",
              "      <td>False</td>\n",
              "      <td>Night</td>\n",
              "      <td>Night</td>\n",
              "      <td>Night</td>\n",
              "      <td>Night</td>\n",
              "    </tr>\n",
              "    <tr>\n",
              "      <th>2</th>\n",
              "      <td>A-2716602</td>\n",
              "      <td>2</td>\n",
              "      <td>2016-02-08 06:15:39</td>\n",
              "      <td>2016-02-08 12:15:39</td>\n",
              "      <td>39.10266</td>\n",
              "      <td>-84.52468</td>\n",
              "      <td>39.10209</td>\n",
              "      <td>-84.52396</td>\n",
              "      <td>0.055</td>\n",
              "      <td>At I-71/US-50/Exit 1 - Accident.</td>\n",
              "      <td>NaN</td>\n",
              "      <td>I-75 S</td>\n",
              "      <td>R</td>\n",
              "      <td>Cincinnati</td>\n",
              "      <td>Hamilton</td>\n",
              "      <td>OH</td>\n",
              "      <td>45203</td>\n",
              "      <td>US</td>\n",
              "      <td>US/Eastern</td>\n",
              "      <td>KLUK</td>\n",
              "      <td>2016-02-08 05:53:00</td>\n",
              "      <td>36.0</td>\n",
              "      <td>NaN</td>\n",
              "      <td>97.0</td>\n",
              "      <td>29.70</td>\n",
              "      <td>10.0</td>\n",
              "      <td>Calm</td>\n",
              "      <td>NaN</td>\n",
              "      <td>0.02</td>\n",
              "      <td>Overcast</td>\n",
              "      <td>False</td>\n",
              "      <td>False</td>\n",
              "      <td>False</td>\n",
              "      <td>False</td>\n",
              "      <td>True</td>\n",
              "      <td>False</td>\n",
              "      <td>False</td>\n",
              "      <td>False</td>\n",
              "      <td>False</td>\n",
              "      <td>False</td>\n",
              "      <td>False</td>\n",
              "      <td>False</td>\n",
              "      <td>False</td>\n",
              "      <td>Night</td>\n",
              "      <td>Night</td>\n",
              "      <td>Night</td>\n",
              "      <td>Day</td>\n",
              "    </tr>\n",
              "    <tr>\n",
              "      <th>3</th>\n",
              "      <td>A-2716603</td>\n",
              "      <td>2</td>\n",
              "      <td>2016-02-08 06:15:39</td>\n",
              "      <td>2016-02-08 12:15:39</td>\n",
              "      <td>39.10148</td>\n",
              "      <td>-84.52341</td>\n",
              "      <td>39.09841</td>\n",
              "      <td>-84.52241</td>\n",
              "      <td>0.219</td>\n",
              "      <td>At I-71/US-50/Exit 1 - Accident.</td>\n",
              "      <td>NaN</td>\n",
              "      <td>US-50 E</td>\n",
              "      <td>R</td>\n",
              "      <td>Cincinnati</td>\n",
              "      <td>Hamilton</td>\n",
              "      <td>OH</td>\n",
              "      <td>45202</td>\n",
              "      <td>US</td>\n",
              "      <td>US/Eastern</td>\n",
              "      <td>KLUK</td>\n",
              "      <td>2016-02-08 05:53:00</td>\n",
              "      <td>36.0</td>\n",
              "      <td>NaN</td>\n",
              "      <td>97.0</td>\n",
              "      <td>29.70</td>\n",
              "      <td>10.0</td>\n",
              "      <td>Calm</td>\n",
              "      <td>NaN</td>\n",
              "      <td>0.02</td>\n",
              "      <td>Overcast</td>\n",
              "      <td>False</td>\n",
              "      <td>False</td>\n",
              "      <td>False</td>\n",
              "      <td>False</td>\n",
              "      <td>True</td>\n",
              "      <td>False</td>\n",
              "      <td>False</td>\n",
              "      <td>False</td>\n",
              "      <td>False</td>\n",
              "      <td>False</td>\n",
              "      <td>False</td>\n",
              "      <td>False</td>\n",
              "      <td>False</td>\n",
              "      <td>Night</td>\n",
              "      <td>Night</td>\n",
              "      <td>Night</td>\n",
              "      <td>Day</td>\n",
              "    </tr>\n",
              "    <tr>\n",
              "      <th>4</th>\n",
              "      <td>A-2716604</td>\n",
              "      <td>2</td>\n",
              "      <td>2016-02-08 06:51:45</td>\n",
              "      <td>2016-02-08 12:51:45</td>\n",
              "      <td>41.06213</td>\n",
              "      <td>-81.53784</td>\n",
              "      <td>41.06217</td>\n",
              "      <td>-81.53547</td>\n",
              "      <td>0.123</td>\n",
              "      <td>At Dart Ave/Exit 21 - Accident.</td>\n",
              "      <td>NaN</td>\n",
              "      <td>I-77 N</td>\n",
              "      <td>R</td>\n",
              "      <td>Akron</td>\n",
              "      <td>Summit</td>\n",
              "      <td>OH</td>\n",
              "      <td>44311</td>\n",
              "      <td>US</td>\n",
              "      <td>US/Eastern</td>\n",
              "      <td>KAKR</td>\n",
              "      <td>2016-02-08 06:54:00</td>\n",
              "      <td>39.0</td>\n",
              "      <td>NaN</td>\n",
              "      <td>55.0</td>\n",
              "      <td>29.65</td>\n",
              "      <td>10.0</td>\n",
              "      <td>Calm</td>\n",
              "      <td>NaN</td>\n",
              "      <td>NaN</td>\n",
              "      <td>Overcast</td>\n",
              "      <td>False</td>\n",
              "      <td>False</td>\n",
              "      <td>False</td>\n",
              "      <td>False</td>\n",
              "      <td>False</td>\n",
              "      <td>False</td>\n",
              "      <td>False</td>\n",
              "      <td>False</td>\n",
              "      <td>False</td>\n",
              "      <td>False</td>\n",
              "      <td>False</td>\n",
              "      <td>False</td>\n",
              "      <td>False</td>\n",
              "      <td>Night</td>\n",
              "      <td>Night</td>\n",
              "      <td>Day</td>\n",
              "      <td>Day</td>\n",
              "    </tr>\n",
              "  </tbody>\n",
              "</table>\n",
              "</div>"
            ],
            "text/plain": [
              "          ID  Severity  ... Nautical_Twilight Astronomical_Twilight\n",
              "0  A-2716600         3  ...             Night                 Night\n",
              "1  A-2716601         2  ...             Night                 Night\n",
              "2  A-2716602         2  ...             Night                   Day\n",
              "3  A-2716603         2  ...             Night                   Day\n",
              "4  A-2716604         2  ...               Day                   Day\n",
              "\n",
              "[5 rows x 47 columns]"
            ]
          },
          "metadata": {},
          "execution_count": 7
        }
      ]
    },
    {
      "cell_type": "code",
      "metadata": {
        "colab": {
          "base_uri": "https://localhost:8080/"
        },
        "id": "hJhlVZPaRjKe",
        "outputId": "da776e38-9ff6-4fa5-e4af-b17744ce85fb"
      },
      "source": [
        "df.shape"
      ],
      "execution_count": 8,
      "outputs": [
        {
          "output_type": "execute_result",
          "data": {
            "text/plain": [
              "(1516064, 47)"
            ]
          },
          "metadata": {},
          "execution_count": 8
        }
      ]
    },
    {
      "cell_type": "code",
      "metadata": {
        "id": "-tUj-ATjSTEt",
        "colab": {
          "base_uri": "https://localhost:8080/"
        },
        "outputId": "5d8ce72c-8f27-4a3e-86d9-ca6e9d3d7604"
      },
      "source": [
        "df.columns"
      ],
      "execution_count": 9,
      "outputs": [
        {
          "output_type": "execute_result",
          "data": {
            "text/plain": [
              "Index(['ID', 'Severity', 'Start_Time', 'End_Time', 'Start_Lat', 'Start_Lng',\n",
              "       'End_Lat', 'End_Lng', 'Distance(mi)', 'Description', 'Number', 'Street',\n",
              "       'Side', 'City', 'County', 'State', 'Zipcode', 'Country', 'Timezone',\n",
              "       'Airport_Code', 'Weather_Timestamp', 'Temperature(F)', 'Wind_Chill(F)',\n",
              "       'Humidity(%)', 'Pressure(in)', 'Visibility(mi)', 'Wind_Direction',\n",
              "       'Wind_Speed(mph)', 'Precipitation(in)', 'Weather_Condition', 'Amenity',\n",
              "       'Bump', 'Crossing', 'Give_Way', 'Junction', 'No_Exit', 'Railway',\n",
              "       'Roundabout', 'Station', 'Stop', 'Traffic_Calming', 'Traffic_Signal',\n",
              "       'Turning_Loop', 'Sunrise_Sunset', 'Civil_Twilight', 'Nautical_Twilight',\n",
              "       'Astronomical_Twilight'],\n",
              "      dtype='object')"
            ]
          },
          "metadata": {},
          "execution_count": 9
        }
      ]
    },
    {
      "cell_type": "code",
      "metadata": {
        "colab": {
          "base_uri": "https://localhost:8080/"
        },
        "id": "O5nrJIe0SapU",
        "outputId": "2a2e574c-4e82-4c79-df1d-01d7cbd4453a"
      },
      "source": [
        "df.info()"
      ],
      "execution_count": 10,
      "outputs": [
        {
          "output_type": "stream",
          "name": "stdout",
          "text": [
            "<class 'pandas.core.frame.DataFrame'>\n",
            "RangeIndex: 1516064 entries, 0 to 1516063\n",
            "Data columns (total 47 columns):\n",
            " #   Column                 Non-Null Count    Dtype  \n",
            "---  ------                 --------------    -----  \n",
            " 0   ID                     1516064 non-null  object \n",
            " 1   Severity               1516064 non-null  int64  \n",
            " 2   Start_Time             1516064 non-null  object \n",
            " 3   End_Time               1516064 non-null  object \n",
            " 4   Start_Lat              1516064 non-null  float64\n",
            " 5   Start_Lng              1516064 non-null  float64\n",
            " 6   End_Lat                1516064 non-null  float64\n",
            " 7   End_Lng                1516064 non-null  float64\n",
            " 8   Distance(mi)           1516064 non-null  float64\n",
            " 9   Description            1516064 non-null  object \n",
            " 10  Number                 469969 non-null   float64\n",
            " 11  Street                 1516064 non-null  object \n",
            " 12  Side                   1516064 non-null  object \n",
            " 13  City                   1515981 non-null  object \n",
            " 14  County                 1516064 non-null  object \n",
            " 15  State                  1516064 non-null  object \n",
            " 16  Zipcode                1515129 non-null  object \n",
            " 17  Country                1516064 non-null  object \n",
            " 18  Timezone               1513762 non-null  object \n",
            " 19  Airport_Code           1511816 non-null  object \n",
            " 20  Weather_Timestamp      1485800 non-null  object \n",
            " 21  Temperature(F)         1473031 non-null  float64\n",
            " 22  Wind_Chill(F)          1066748 non-null  float64\n",
            " 23  Humidity(%)            1470555 non-null  float64\n",
            " 24  Pressure(in)           1479790 non-null  float64\n",
            " 25  Visibility(mi)         1471853 non-null  float64\n",
            " 26  Wind_Direction         1474206 non-null  object \n",
            " 27  Wind_Speed(mph)        1387202 non-null  float64\n",
            " 28  Precipitation(in)      1005515 non-null  float64\n",
            " 29  Weather_Condition      1472057 non-null  object \n",
            " 30  Amenity                1516064 non-null  bool   \n",
            " 31  Bump                   1516064 non-null  bool   \n",
            " 32  Crossing               1516064 non-null  bool   \n",
            " 33  Give_Way               1516064 non-null  bool   \n",
            " 34  Junction               1516064 non-null  bool   \n",
            " 35  No_Exit                1516064 non-null  bool   \n",
            " 36  Railway                1516064 non-null  bool   \n",
            " 37  Roundabout             1516064 non-null  bool   \n",
            " 38  Station                1516064 non-null  bool   \n",
            " 39  Stop                   1516064 non-null  bool   \n",
            " 40  Traffic_Calming        1516064 non-null  bool   \n",
            " 41  Traffic_Signal         1516064 non-null  bool   \n",
            " 42  Turning_Loop           1516064 non-null  bool   \n",
            " 43  Sunrise_Sunset         1515981 non-null  object \n",
            " 44  Civil_Twilight         1515981 non-null  object \n",
            " 45  Nautical_Twilight      1515981 non-null  object \n",
            " 46  Astronomical_Twilight  1515981 non-null  object \n",
            "dtypes: bool(13), float64(13), int64(1), object(20)\n",
            "memory usage: 412.1+ MB\n"
          ]
        }
      ]
    },
    {
      "cell_type": "code",
      "metadata": {
        "colab": {
          "base_uri": "https://localhost:8080/",
          "height": 315
        },
        "id": "qqzg3UNkScdC",
        "outputId": "0ae3df97-3cf3-4e41-817f-8973026a57c5"
      },
      "source": [
        "df.describe()"
      ],
      "execution_count": 11,
      "outputs": [
        {
          "output_type": "execute_result",
          "data": {
            "text/html": [
              "<div>\n",
              "<style scoped>\n",
              "    .dataframe tbody tr th:only-of-type {\n",
              "        vertical-align: middle;\n",
              "    }\n",
              "\n",
              "    .dataframe tbody tr th {\n",
              "        vertical-align: top;\n",
              "    }\n",
              "\n",
              "    .dataframe thead th {\n",
              "        text-align: right;\n",
              "    }\n",
              "</style>\n",
              "<table border=\"1\" class=\"dataframe\">\n",
              "  <thead>\n",
              "    <tr style=\"text-align: right;\">\n",
              "      <th></th>\n",
              "      <th>Severity</th>\n",
              "      <th>Start_Lat</th>\n",
              "      <th>Start_Lng</th>\n",
              "      <th>End_Lat</th>\n",
              "      <th>End_Lng</th>\n",
              "      <th>Distance(mi)</th>\n",
              "      <th>Number</th>\n",
              "      <th>Temperature(F)</th>\n",
              "      <th>Wind_Chill(F)</th>\n",
              "      <th>Humidity(%)</th>\n",
              "      <th>Pressure(in)</th>\n",
              "      <th>Visibility(mi)</th>\n",
              "      <th>Wind_Speed(mph)</th>\n",
              "      <th>Precipitation(in)</th>\n",
              "    </tr>\n",
              "  </thead>\n",
              "  <tbody>\n",
              "    <tr>\n",
              "      <th>count</th>\n",
              "      <td>1.516064e+06</td>\n",
              "      <td>1.516064e+06</td>\n",
              "      <td>1.516064e+06</td>\n",
              "      <td>1.516064e+06</td>\n",
              "      <td>1.516064e+06</td>\n",
              "      <td>1.516064e+06</td>\n",
              "      <td>4.699690e+05</td>\n",
              "      <td>1.473031e+06</td>\n",
              "      <td>1.066748e+06</td>\n",
              "      <td>1.470555e+06</td>\n",
              "      <td>1.479790e+06</td>\n",
              "      <td>1.471853e+06</td>\n",
              "      <td>1.387202e+06</td>\n",
              "      <td>1.005515e+06</td>\n",
              "    </tr>\n",
              "    <tr>\n",
              "      <th>mean</th>\n",
              "      <td>2.238630e+00</td>\n",
              "      <td>3.690056e+01</td>\n",
              "      <td>-9.859919e+01</td>\n",
              "      <td>3.690061e+01</td>\n",
              "      <td>-9.859901e+01</td>\n",
              "      <td>5.872617e-01</td>\n",
              "      <td>8.907533e+03</td>\n",
              "      <td>5.958460e+01</td>\n",
              "      <td>5.510976e+01</td>\n",
              "      <td>6.465960e+01</td>\n",
              "      <td>2.955495e+01</td>\n",
              "      <td>9.131755e+00</td>\n",
              "      <td>7.630812e+00</td>\n",
              "      <td>8.477855e-03</td>\n",
              "    </tr>\n",
              "    <tr>\n",
              "      <th>std</th>\n",
              "      <td>6.081481e-01</td>\n",
              "      <td>5.165653e+00</td>\n",
              "      <td>1.849602e+01</td>\n",
              "      <td>5.165629e+00</td>\n",
              "      <td>1.849590e+01</td>\n",
              "      <td>1.632659e+00</td>\n",
              "      <td>2.242190e+04</td>\n",
              "      <td>1.827316e+01</td>\n",
              "      <td>2.112735e+01</td>\n",
              "      <td>2.325986e+01</td>\n",
              "      <td>1.016756e+00</td>\n",
              "      <td>2.889112e+00</td>\n",
              "      <td>5.637364e+00</td>\n",
              "      <td>1.293168e-01</td>\n",
              "    </tr>\n",
              "    <tr>\n",
              "      <th>min</th>\n",
              "      <td>1.000000e+00</td>\n",
              "      <td>2.457022e+01</td>\n",
              "      <td>-1.244976e+02</td>\n",
              "      <td>2.457011e+01</td>\n",
              "      <td>-1.244978e+02</td>\n",
              "      <td>0.000000e+00</td>\n",
              "      <td>0.000000e+00</td>\n",
              "      <td>-8.900000e+01</td>\n",
              "      <td>-8.900000e+01</td>\n",
              "      <td>1.000000e+00</td>\n",
              "      <td>0.000000e+00</td>\n",
              "      <td>0.000000e+00</td>\n",
              "      <td>0.000000e+00</td>\n",
              "      <td>0.000000e+00</td>\n",
              "    </tr>\n",
              "    <tr>\n",
              "      <th>25%</th>\n",
              "      <td>2.000000e+00</td>\n",
              "      <td>3.385422e+01</td>\n",
              "      <td>-1.182076e+02</td>\n",
              "      <td>3.385420e+01</td>\n",
              "      <td>-1.182077e+02</td>\n",
              "      <td>0.000000e+00</td>\n",
              "      <td>1.212000e+03</td>\n",
              "      <td>4.700000e+01</td>\n",
              "      <td>4.080000e+01</td>\n",
              "      <td>4.800000e+01</td>\n",
              "      <td>2.944000e+01</td>\n",
              "      <td>1.000000e+01</td>\n",
              "      <td>4.600000e+00</td>\n",
              "      <td>0.000000e+00</td>\n",
              "    </tr>\n",
              "    <tr>\n",
              "      <th>50%</th>\n",
              "      <td>2.000000e+00</td>\n",
              "      <td>3.735113e+01</td>\n",
              "      <td>-9.438100e+01</td>\n",
              "      <td>3.735134e+01</td>\n",
              "      <td>-9.437987e+01</td>\n",
              "      <td>1.780000e-01</td>\n",
              "      <td>4.000000e+03</td>\n",
              "      <td>6.100000e+01</td>\n",
              "      <td>5.700000e+01</td>\n",
              "      <td>6.800000e+01</td>\n",
              "      <td>2.988000e+01</td>\n",
              "      <td>1.000000e+01</td>\n",
              "      <td>7.000000e+00</td>\n",
              "      <td>0.000000e+00</td>\n",
              "    </tr>\n",
              "    <tr>\n",
              "      <th>75%</th>\n",
              "      <td>2.000000e+00</td>\n",
              "      <td>4.072593e+01</td>\n",
              "      <td>-8.087469e+01</td>\n",
              "      <td>4.072593e+01</td>\n",
              "      <td>-8.087449e+01</td>\n",
              "      <td>5.940000e-01</td>\n",
              "      <td>1.010000e+04</td>\n",
              "      <td>7.300000e+01</td>\n",
              "      <td>7.100000e+01</td>\n",
              "      <td>8.400000e+01</td>\n",
              "      <td>3.004000e+01</td>\n",
              "      <td>1.000000e+01</td>\n",
              "      <td>1.040000e+01</td>\n",
              "      <td>0.000000e+00</td>\n",
              "    </tr>\n",
              "    <tr>\n",
              "      <th>max</th>\n",
              "      <td>4.000000e+00</td>\n",
              "      <td>4.900058e+01</td>\n",
              "      <td>-6.711317e+01</td>\n",
              "      <td>4.907500e+01</td>\n",
              "      <td>-6.710924e+01</td>\n",
              "      <td>1.551860e+02</td>\n",
              "      <td>9.999997e+06</td>\n",
              "      <td>1.706000e+02</td>\n",
              "      <td>1.130000e+02</td>\n",
              "      <td>1.000000e+02</td>\n",
              "      <td>5.804000e+01</td>\n",
              "      <td>1.400000e+02</td>\n",
              "      <td>9.840000e+02</td>\n",
              "      <td>2.400000e+01</td>\n",
              "    </tr>\n",
              "  </tbody>\n",
              "</table>\n",
              "</div>"
            ],
            "text/plain": [
              "           Severity     Start_Lat  ...  Wind_Speed(mph)  Precipitation(in)\n",
              "count  1.516064e+06  1.516064e+06  ...     1.387202e+06       1.005515e+06\n",
              "mean   2.238630e+00  3.690056e+01  ...     7.630812e+00       8.477855e-03\n",
              "std    6.081481e-01  5.165653e+00  ...     5.637364e+00       1.293168e-01\n",
              "min    1.000000e+00  2.457022e+01  ...     0.000000e+00       0.000000e+00\n",
              "25%    2.000000e+00  3.385422e+01  ...     4.600000e+00       0.000000e+00\n",
              "50%    2.000000e+00  3.735113e+01  ...     7.000000e+00       0.000000e+00\n",
              "75%    2.000000e+00  4.072593e+01  ...     1.040000e+01       0.000000e+00\n",
              "max    4.000000e+00  4.900058e+01  ...     9.840000e+02       2.400000e+01\n",
              "\n",
              "[8 rows x 14 columns]"
            ]
          },
          "metadata": {},
          "execution_count": 11
        }
      ]
    },
    {
      "cell_type": "markdown",
      "metadata": {
        "id": "sfXfjLEsFKXI"
      },
      "source": [
        "Percentage of missing values per column"
      ]
    },
    {
      "cell_type": "code",
      "metadata": {
        "colab": {
          "base_uri": "https://localhost:8080/"
        },
        "id": "TGicSTUDbV4I",
        "outputId": "12bce00a-adad-4d3f-ffc8-499679ed664e"
      },
      "source": [
        "missing_percentages = df.isnull().sum().sort_values(ascending=False) / len(df)\n",
        "missing_percentages"
      ],
      "execution_count": 12,
      "outputs": [
        {
          "output_type": "execute_result",
          "data": {
            "text/plain": [
              "Number                   0.690007\n",
              "Precipitation(in)        0.336760\n",
              "Wind_Chill(F)            0.296370\n",
              "Wind_Speed(mph)          0.084998\n",
              "Humidity(%)              0.030018\n",
              "Visibility(mi)           0.029162\n",
              "Weather_Condition        0.029027\n",
              "Temperature(F)           0.028385\n",
              "Wind_Direction           0.027610\n",
              "Pressure(in)             0.023926\n",
              "Weather_Timestamp        0.019962\n",
              "Airport_Code             0.002802\n",
              "Timezone                 0.001518\n",
              "Zipcode                  0.000617\n",
              "City                     0.000055\n",
              "Nautical_Twilight        0.000055\n",
              "Astronomical_Twilight    0.000055\n",
              "Civil_Twilight           0.000055\n",
              "Sunrise_Sunset           0.000055\n",
              "Amenity                  0.000000\n",
              "Bump                     0.000000\n",
              "Severity                 0.000000\n",
              "Start_Time               0.000000\n",
              "End_Time                 0.000000\n",
              "Start_Lat                0.000000\n",
              "Start_Lng                0.000000\n",
              "End_Lat                  0.000000\n",
              "End_Lng                  0.000000\n",
              "Distance(mi)             0.000000\n",
              "Description              0.000000\n",
              "Street                   0.000000\n",
              "Side                     0.000000\n",
              "County                   0.000000\n",
              "State                    0.000000\n",
              "Turning_Loop             0.000000\n",
              "Country                  0.000000\n",
              "Traffic_Signal           0.000000\n",
              "Traffic_Calming          0.000000\n",
              "Stop                     0.000000\n",
              "Station                  0.000000\n",
              "Roundabout               0.000000\n",
              "Railway                  0.000000\n",
              "No_Exit                  0.000000\n",
              "Junction                 0.000000\n",
              "Give_Way                 0.000000\n",
              "Crossing                 0.000000\n",
              "ID                       0.000000\n",
              "dtype: float64"
            ]
          },
          "metadata": {},
          "execution_count": 12
        }
      ]
    },
    {
      "cell_type": "code",
      "metadata": {
        "colab": {
          "base_uri": "https://localhost:8080/"
        },
        "id": "mfQe4VAncWhO",
        "outputId": "9682186a-8feb-4686-c4c6-e9dd952a214b"
      },
      "source": [
        "missing_percentages[missing_percentages != 0]"
      ],
      "execution_count": 13,
      "outputs": [
        {
          "output_type": "execute_result",
          "data": {
            "text/plain": [
              "Number                   0.690007\n",
              "Precipitation(in)        0.336760\n",
              "Wind_Chill(F)            0.296370\n",
              "Wind_Speed(mph)          0.084998\n",
              "Humidity(%)              0.030018\n",
              "Visibility(mi)           0.029162\n",
              "Weather_Condition        0.029027\n",
              "Temperature(F)           0.028385\n",
              "Wind_Direction           0.027610\n",
              "Pressure(in)             0.023926\n",
              "Weather_Timestamp        0.019962\n",
              "Airport_Code             0.002802\n",
              "Timezone                 0.001518\n",
              "Zipcode                  0.000617\n",
              "City                     0.000055\n",
              "Nautical_Twilight        0.000055\n",
              "Astronomical_Twilight    0.000055\n",
              "Civil_Twilight           0.000055\n",
              "Sunrise_Sunset           0.000055\n",
              "dtype: float64"
            ]
          },
          "metadata": {},
          "execution_count": 13
        }
      ]
    },
    {
      "cell_type": "markdown",
      "metadata": {
        "id": "qFkD4wHgFp1a"
      },
      "source": [
        "## Exploratory Analysis and Visualization"
      ]
    },
    {
      "cell_type": "code",
      "metadata": {
        "colab": {
          "base_uri": "https://localhost:8080/",
          "height": 282
        },
        "id": "ds7fLC9dc2qm",
        "outputId": "9545940f-2519-4b05-ae26-f43b1341c3b8"
      },
      "source": [
        "missing_percentages[missing_percentages != 0].plot(kind='barh')"
      ],
      "execution_count": 14,
      "outputs": [
        {
          "output_type": "execute_result",
          "data": {
            "text/plain": [
              "<matplotlib.axes._subplots.AxesSubplot at 0x7fd8bbf63650>"
            ]
          },
          "metadata": {},
          "execution_count": 14
        },
        {
          "output_type": "display_data",
          "data": {
            "image/png": "[encoded data removed]",
            "text/plain": [
              "<Figure size 432x288 with 1 Axes>"
            ]
          },
          "metadata": {
            "needs_background": "light"
          }
        }
      ]
    },
    {
      "cell_type": "markdown",
      "metadata": {
        "id": "HM5-mdYnFigx"
      },
      "source": [
        "## City"
      ]
    },
    {
      "cell_type": "code",
      "metadata": {
        "colab": {
          "base_uri": "https://localhost:8080/"
        },
        "id": "hNYYwddtc9E0",
        "outputId": "1ce451ef-30ce-443e-f6c0-ab01d6d094f8"
      },
      "source": [
        "df.City"
      ],
      "execution_count": 15,
      "outputs": [
        {
          "output_type": "execute_result",
          "data": {
            "text/plain": [
              "0               Dublin\n",
              "1               Dayton\n",
              "2           Cincinnati\n",
              "3           Cincinnati\n",
              "4                Akron\n",
              "              ...     \n",
              "1516059      Riverside\n",
              "1516060      San Diego\n",
              "1516061         Orange\n",
              "1516062    Culver City\n",
              "1516063       Highland\n",
              "Name: City, Length: 1516064, dtype: object"
            ]
          },
          "metadata": {},
          "execution_count": 15
        }
      ]
    },
    {
      "cell_type": "code",
      "metadata": {
        "colab": {
          "base_uri": "https://localhost:8080/"
        },
        "id": "lC9P--gjeoSL",
        "outputId": "d4eeb178-3f0b-4dae-f7b0-93674774b2d5"
      },
      "source": [
        "cities = df.City.unique()\n",
        "len(cities)"
      ],
      "execution_count": 16,
      "outputs": [
        {
          "output_type": "execute_result",
          "data": {
            "text/plain": [
              "10658"
            ]
          },
          "metadata": {},
          "execution_count": 16
        }
      ]
    },
    {
      "cell_type": "code",
      "metadata": {
        "colab": {
          "base_uri": "https://localhost:8080/"
        },
        "id": "CDoa-mhoe91j",
        "outputId": "6c53aabc-4ed2-443f-9de8-a13dd3e893fa"
      },
      "source": [
        "cities_by_accident = df.City.value_counts()\n",
        "cities_by_accident"
      ],
      "execution_count": 17,
      "outputs": [
        {
          "output_type": "execute_result",
          "data": {
            "text/plain": [
              "Los Angeles                 39984\n",
              "Miami                       36233\n",
              "Charlotte                   22203\n",
              "Houston                     20843\n",
              "Dallas                      19497\n",
              "                            ...  \n",
              "Platte Center                   1\n",
              "Gibbsboro                       1\n",
              "Ansted                          1\n",
              "Fairchild Air Force Base        1\n",
              "Gentryville                     1\n",
              "Name: City, Length: 10657, dtype: int64"
            ]
          },
          "metadata": {},
          "execution_count": 17
        }
      ]
    },
    {
      "cell_type": "code",
      "metadata": {
        "colab": {
          "base_uri": "https://localhost:8080/"
        },
        "id": "557k3vw-fRPo",
        "outputId": "d8aff9d1-b18a-4f39-8d1b-a4b5e0a44db3"
      },
      "source": [
        "cities_by_accident[:20]"
      ],
      "execution_count": 18,
      "outputs": [
        {
          "output_type": "execute_result",
          "data": {
            "text/plain": [
              "Los Angeles     39984\n",
              "Miami           36233\n",
              "Charlotte       22203\n",
              "Houston         20843\n",
              "Dallas          19497\n",
              "Sacramento      18431\n",
              "Orlando         16169\n",
              "Portland        14805\n",
              "San Diego       14090\n",
              "Minneapolis     12653\n",
              "Atlanta         11854\n",
              "Chicago         11507\n",
              "Saint Paul      10084\n",
              "Phoenix          9934\n",
              "Raleigh          9516\n",
              "San Jose         9362\n",
              "Richmond         8472\n",
              "Nashville        8381\n",
              "Riverside        8201\n",
              "Jacksonville     7815\n",
              "Name: City, dtype: int64"
            ]
          },
          "metadata": {},
          "execution_count": 18
        }
      ]
    },
    {
      "cell_type": "code",
      "metadata": {
        "colab": {
          "base_uri": "https://localhost:8080/",
          "height": 282
        },
        "id": "a7xk6IP8fZdy",
        "outputId": "75496d90-9645-4194-b041-bc5b8422571d"
      },
      "source": [
        "cities_by_accident[:20].plot(kind='barh')"
      ],
      "execution_count": 19,
      "outputs": [
        {
          "output_type": "execute_result",
          "data": {
            "text/plain": [
              "<matplotlib.axes._subplots.AxesSubplot at 0x7fd8bbeec110>"
            ]
          },
          "metadata": {},
          "execution_count": 19
        },
        {
          "output_type": "display_data",
          "data": {
            "image/png": "[encoded data removed]",
            "text/plain": [
              "<Figure size 432x288 with 1 Axes>"
            ]
          },
          "metadata": {
            "needs_background": "light"
          }
        }
      ]
    },
    {
      "cell_type": "code",
      "metadata": {
        "colab": {
          "base_uri": "https://localhost:8080/",
          "height": 300
        },
        "id": "cODAaZq3j3yY",
        "outputId": "c0b45651-da50-45e2-e3da-7fbadeeb5531"
      },
      "source": [
        "sns.histplot(cities_by_accident, log_scale=True)"
      ],
      "execution_count": 20,
      "outputs": [
        {
          "output_type": "execute_result",
          "data": {
            "text/plain": [
              "<matplotlib.axes._subplots.AxesSubplot at 0x7fd8bb9954d0>"
            ]
          },
          "metadata": {},
          "execution_count": 20
        },
        {
          "output_type": "display_data",
          "data": {
            "image/png": "[encoded data removed]",
            "text/plain": [
              "<Figure size 432x288 with 1 Axes>"
            ]
          },
          "metadata": {
            "needs_background": "light"
          }
        }
      ]
    },
    {
      "cell_type": "markdown",
      "metadata": {
        "id": "L_niyOKHFxa-"
      },
      "source": [
        "## Start Time"
      ]
    },
    {
      "cell_type": "code",
      "metadata": {
        "colab": {
          "base_uri": "https://localhost:8080/"
        },
        "id": "cw5f4mAZioMN",
        "outputId": "94d1d005-6278-43c5-f98f-60a8b56ac58c"
      },
      "source": [
        "df.Start_Time"
      ],
      "execution_count": 21,
      "outputs": [
        {
          "output_type": "execute_result",
          "data": {
            "text/plain": [
              "0          2016-02-08 00:37:08\n",
              "1          2016-02-08 05:56:20\n",
              "2          2016-02-08 06:15:39\n",
              "3          2016-02-08 06:15:39\n",
              "4          2016-02-08 06:51:45\n",
              "                  ...         \n",
              "1516059    2019-08-23 18:03:25\n",
              "1516060    2019-08-23 19:11:30\n",
              "1516061    2019-08-23 19:00:21\n",
              "1516062    2019-08-23 19:00:21\n",
              "1516063    2019-08-23 18:52:06\n",
              "Name: Start_Time, Length: 1516064, dtype: object"
            ]
          },
          "metadata": {},
          "execution_count": 21
        }
      ]
    },
    {
      "cell_type": "code",
      "metadata": {
        "colab": {
          "base_uri": "https://localhost:8080/"
        },
        "id": "L9SGlWYLk8WQ",
        "outputId": "091d3643-6bf1-41fa-befe-eb361d17dc22"
      },
      "source": [
        "df.Start_Time = pd.to_datetime(df.Start_Time)\n",
        "df.Start_Time[0]"
      ],
      "execution_count": 22,
      "outputs": [
        {
          "output_type": "execute_result",
          "data": {
            "text/plain": [
              "Timestamp('2016-02-08 00:37:08')"
            ]
          },
          "metadata": {},
          "execution_count": 22
        }
      ]
    },
    {
      "cell_type": "code",
      "metadata": {
        "colab": {
          "base_uri": "https://localhost:8080/",
          "height": 350
        },
        "id": "cD5v-nOWliNm",
        "outputId": "8d2915a2-ed72-47bc-bb88-fe9a9b1d3980"
      },
      "source": [
        "sns.distplot(df.Start_Time.dt.hour, bins = 24, kde=False, norm_hist=True)"
      ],
      "execution_count": 23,
      "outputs": [
        {
          "output_type": "stream",
          "name": "stderr",
          "text": [
            "/usr/local/lib/python3.7/dist-packages/seaborn/distributions.py:2619: FutureWarning: `distplot` is a deprecated function and will be removed in a future version. Please adapt your code to use either `displot` (a figure-level function with similar flexibility) or `histplot` (an axes-level function for histograms).\n",
            "  warnings.warn(msg, FutureWarning)\n"
          ]
        },
        {
          "output_type": "execute_result",
          "data": {
            "text/plain": [
              "<matplotlib.axes._subplots.AxesSubplot at 0x7fd8bb63fcd0>"
            ]
          },
          "metadata": {},
          "execution_count": 23
        },
        {
          "output_type": "display_data",
          "data": {
            "image/png": "[encoded data removed]",
            "text/plain": [
              "<Figure size 432x288 with 1 Axes>"
            ]
          },
          "metadata": {
            "needs_background": "light"
          }
        }
      ]
    },
    {
      "cell_type": "code",
      "metadata": {
        "colab": {
          "base_uri": "https://localhost:8080/",
          "height": 350
        },
        "id": "YICSXjGlnWPH",
        "outputId": "4f256d04-76be-4579-ea00-53b8cb6a6417"
      },
      "source": [
        "sns.distplot(df.Start_Time.dt.dayofweek, bins = 7, kde=False, norm_hist=True)"
      ],
      "execution_count": 24,
      "outputs": [
        {
          "output_type": "stream",
          "name": "stderr",
          "text": [
            "/usr/local/lib/python3.7/dist-packages/seaborn/distributions.py:2619: FutureWarning: `distplot` is a deprecated function and will be removed in a future version. Please adapt your code to use either `displot` (a figure-level function with similar flexibility) or `histplot` (an axes-level function for histograms).\n",
            "  warnings.warn(msg, FutureWarning)\n"
          ]
        },
        {
          "output_type": "execute_result",
          "data": {
            "text/plain": [
              "<matplotlib.axes._subplots.AxesSubplot at 0x7fd8bb6016d0>"
            ]
          },
          "metadata": {},
          "execution_count": 24
        },
        {
          "output_type": "display_data",
          "data": {
            "image/png": "[encoded data removed]",
            "text/plain": [
              "<Figure size 432x288 with 1 Axes>"
            ]
          },
          "metadata": {
            "needs_background": "light"
          }
        }
      ]
    },
    {
      "cell_type": "code",
      "metadata": {
        "colab": {
          "base_uri": "https://localhost:8080/",
          "height": 350
        },
        "id": "Y8Hmq-xPmeqT",
        "outputId": "23771571-5e14-470a-8ac1-030f914c25a7"
      },
      "source": [
        "sundays_start_time = df.Start_Time[df.Start_Time.dt.dayofweek == 6]\n",
        "sns.distplot(sundays_start_time.dt.hour, bins=24, kde=False, norm_hist=True)"
      ],
      "execution_count": 25,
      "outputs": [
        {
          "output_type": "stream",
          "name": "stderr",
          "text": [
            "/usr/local/lib/python3.7/dist-packages/seaborn/distributions.py:2619: FutureWarning: `distplot` is a deprecated function and will be removed in a future version. Please adapt your code to use either `displot` (a figure-level function with similar flexibility) or `histplot` (an axes-level function for histograms).\n",
            "  warnings.warn(msg, FutureWarning)\n"
          ]
        },
        {
          "output_type": "execute_result",
          "data": {
            "text/plain": [
              "<matplotlib.axes._subplots.AxesSubplot at 0x7fd8bb5a2a10>"
            ]
          },
          "metadata": {},
          "execution_count": 25
        },
        {
          "output_type": "display_data",
          "data": {
            "image/png": "[encoded data removed]",
            "text/plain": [
              "<Figure size 432x288 with 1 Axes>"
            ]
          },
          "metadata": {
            "needs_background": "light"
          }
        }
      ]
    },
    {
      "cell_type": "code",
      "metadata": {
        "colab": {
          "base_uri": "https://localhost:8080/",
          "height": 350
        },
        "id": "45Dml6O99qab",
        "outputId": "08684dcf-e6f8-4dd1-e51c-46113d8a481a"
      },
      "source": [
        "monday_start_time = df.Start_Time[df.Start_Time.dt.dayofweek == 0]\n",
        "sns.distplot(sundays_start_time.dt.hour, bins=24, kde=False, norm_hist=True)"
      ],
      "execution_count": 26,
      "outputs": [
        {
          "output_type": "stream",
          "name": "stderr",
          "text": [
            "/usr/local/lib/python3.7/dist-packages/seaborn/distributions.py:2619: FutureWarning: `distplot` is a deprecated function and will be removed in a future version. Please adapt your code to use either `displot` (a figure-level function with similar flexibility) or `histplot` (an axes-level function for histograms).\n",
            "  warnings.warn(msg, FutureWarning)\n"
          ]
        },
        {
          "output_type": "execute_result",
          "data": {
            "text/plain": [
              "<matplotlib.axes._subplots.AxesSubplot at 0x7fd8bb516e90>"
            ]
          },
          "metadata": {},
          "execution_count": 26
        },
        {
          "output_type": "display_data",
          "data": {
            "image/png": "[encoded data removed]",
            "text/plain": [
              "<Figure size 432x288 with 1 Axes>"
            ]
          },
          "metadata": {
            "needs_background": "light"
          }
        }
      ]
    },
    {
      "cell_type": "code",
      "metadata": {
        "colab": {
          "base_uri": "https://localhost:8080/",
          "height": 350
        },
        "id": "vAnJwRPc9wX9",
        "outputId": "67c711e6-8b76-4f67-855c-d62755d9fb47"
      },
      "source": [
        "df_2019 = df[df.Start_Time.dt.year == 2019]\n",
        "sns.distplot(df_2019.Start_Time.dt.month, bins=12, kde=False, norm_hist=True)"
      ],
      "execution_count": 27,
      "outputs": [
        {
          "output_type": "stream",
          "name": "stderr",
          "text": [
            "/usr/local/lib/python3.7/dist-packages/seaborn/distributions.py:2619: FutureWarning: `distplot` is a deprecated function and will be removed in a future version. Please adapt your code to use either `displot` (a figure-level function with similar flexibility) or `histplot` (an axes-level function for histograms).\n",
            "  warnings.warn(msg, FutureWarning)\n"
          ]
        },
        {
          "output_type": "execute_result",
          "data": {
            "text/plain": [
              "<matplotlib.axes._subplots.AxesSubplot at 0x7fd8bb465ed0>"
            ]
          },
          "metadata": {},
          "execution_count": 27
        },
        {
          "output_type": "display_data",
          "data": {
            "image/png": "[encoded data removed]",
            "text/plain": [
              "<Figure size 432x288 with 1 Axes>"
            ]
          },
          "metadata": {
            "needs_background": "light"
          }
        }
      ]
    },
    {
      "cell_type": "markdown",
      "metadata": {
        "id": "wIVseXsRGFI4"
      },
      "source": [
        "## Start Latitude and Start Longitude"
      ]
    },
    {
      "cell_type": "code",
      "metadata": {
        "colab": {
          "base_uri": "https://localhost:8080/"
        },
        "id": "SnG1nzVt_7JO",
        "outputId": "ed60257b-04f9-497e-8dd0-1c5024512275"
      },
      "source": [
        "df.Start_Lat"
      ],
      "execution_count": 28,
      "outputs": [
        {
          "output_type": "execute_result",
          "data": {
            "text/plain": [
              "0          40.10891\n",
              "1          39.86542\n",
              "2          39.10266\n",
              "3          39.10148\n",
              "4          41.06213\n",
              "             ...   \n",
              "1516059    34.00248\n",
              "1516060    32.76696\n",
              "1516061    33.77545\n",
              "1516062    33.99246\n",
              "1516063    34.13393\n",
              "Name: Start_Lat, Length: 1516064, dtype: float64"
            ]
          },
          "metadata": {},
          "execution_count": 28
        }
      ]
    },
    {
      "cell_type": "code",
      "metadata": {
        "colab": {
          "base_uri": "https://localhost:8080/"
        },
        "id": "pGwzuRXF__zp",
        "outputId": "6b8c28e3-4e04-4c95-ee98-810072a591e4"
      },
      "source": [
        "df.Start_Lng"
      ],
      "execution_count": 29,
      "outputs": [
        {
          "output_type": "execute_result",
          "data": {
            "text/plain": [
              "0          -83.09286\n",
              "1          -84.06280\n",
              "2          -84.52468\n",
              "3          -84.52341\n",
              "4          -81.53784\n",
              "             ...    \n",
              "1516059   -117.37936\n",
              "1516060   -117.14806\n",
              "1516061   -117.84779\n",
              "1516062   -118.40302\n",
              "1516063   -117.23092\n",
              "Name: Start_Lng, Length: 1516064, dtype: float64"
            ]
          },
          "metadata": {},
          "execution_count": 29
        }
      ]
    },
    {
      "cell_type": "code",
      "metadata": {
        "id": "Imt1Ct-PAC4N"
      },
      "source": [
        "sample_df = df.sample(int(0.1 * len(df)))"
      ],
      "execution_count": 30,
      "outputs": []
    },
    {
      "cell_type": "code",
      "metadata": {
        "colab": {
          "base_uri": "https://localhost:8080/",
          "height": 300
        },
        "id": "s6xGAEB_AGyN",
        "outputId": "542a03fd-4799-442a-f1b7-4373aaf472ad"
      },
      "source": [
        "sns.scatterplot(x=sample_df.Start_Lng, y=sample_df.Start_Lat, size=0.001)"
      ],
      "execution_count": 31,
      "outputs": [
        {
          "output_type": "execute_result",
          "data": {
            "text/plain": [
              "<matplotlib.axes._subplots.AxesSubplot at 0x7fd8bb385bd0>"
            ]
          },
          "metadata": {},
          "execution_count": 31
        },
        {
          "output_type": "display_data",
          "data": {
            "image/png": "[encoded data removed]",
            "text/plain": [
              "<Figure size 432x288 with 1 Axes>"
            ]
          },
          "metadata": {
            "needs_background": "light"
          }
        }
      ]
    },
    {
      "cell_type": "code",
      "metadata": {
        "id": "y25gJPbgALsU"
      },
      "source": [
        "import folium"
      ],
      "execution_count": 32,
      "outputs": []
    },
    {
      "cell_type": "code",
      "metadata": {
        "colab": {
          "base_uri": "https://localhost:8080/"
        },
        "id": "8vmnxB8bAQcf",
        "outputId": "adfbe5ae-3aa5-4f61-e74b-eff15537e4ba"
      },
      "source": [
        "lat, lon = df.Start_Lat[0], df.Start_Lng[0]\n",
        "lat, lon"
      ],
      "execution_count": 33,
      "outputs": [
        {
          "output_type": "execute_result",
          "data": {
            "text/plain": [
              "(40.108909999999995, -83.09286)"
            ]
          },
          "metadata": {},
          "execution_count": 33
        }
      ]
    },
    {
      "cell_type": "code",
      "metadata": {
        "colab": {
          "base_uri": "https://localhost:8080/"
        },
        "id": "rl6P4eXVATWO",
        "outputId": "0b3183d0-7e0c-45b5-b105-661779720578"
      },
      "source": [
        "for x in df[['Start_Lat', 'Start_Lng']].sample(100).iteritems():\n",
        "    print(x[1])"
      ],
      "execution_count": 34,
      "outputs": [
        {
          "output_type": "stream",
          "name": "stdout",
          "text": [
            "453001     27.864820\n",
            "534943     25.759372\n",
            "1207469    42.746300\n",
            "917895     40.719160\n",
            "129223     34.006340\n",
            "             ...    \n",
            "101845     32.768502\n",
            "864790     34.067674\n",
            "66403      42.240161\n",
            "326708     33.852057\n",
            "1045532    42.505730\n",
            "Name: Start_Lat, Length: 100, dtype: float64\n",
            "453001     -82.326681\n",
            "534943     -80.306585\n",
            "1207469    -83.413220\n",
            "917895     -73.580620\n",
            "129223    -118.061560\n",
            "              ...    \n",
            "101845    -114.399780\n",
            "864790    -117.524050\n",
            "66403      -87.890335\n",
            "326708    -117.813253\n",
            "1045532    -83.067510\n",
            "Name: Start_Lng, Length: 100, dtype: float64\n"
          ]
        }
      ]
    },
    {
      "cell_type": "code",
      "metadata": {
        "colab": {
          "base_uri": "https://localhost:8080/"
        },
        "id": "0ERysUqBAW0r",
        "outputId": "6db3ef02-d184-4f3e-85bf-fd34be165be5"
      },
      "source": [
        "zip(list(df.Start_Lat), list(df.Start_Lng))"
      ],
      "execution_count": 35,
      "outputs": [
        {
          "output_type": "execute_result",
          "data": {
            "text/plain": [
              "<zip at 0x7fd8b92fdc80>"
            ]
          },
          "metadata": {},
          "execution_count": 35
        }
      ]
    },
    {
      "cell_type": "code",
      "metadata": {
        "id": "WEOFUsI2AaZT"
      },
      "source": [
        "from folium.plugins import HeatMap"
      ],
      "execution_count": 36,
      "outputs": []
    },
    {
      "cell_type": "code",
      "metadata": {
        "id": "0_QaWUy6AdAJ"
      },
      "source": [
        "sample_df = df.sample(int(0.001 * len(df)))\n",
        "lat_lon_pairs = list(zip(list(sample_df.Start_Lat), list(sample_df.Start_Lng)))"
      ],
      "execution_count": 37,
      "outputs": []
    },
    {
      "cell_type": "code",
      "metadata": {
        "colab": {
          "base_uri": "https://localhost:8080/",
          "height": 866
        },
        "id": "-EYB3291AfyE",
        "outputId": "7b86e686-cb54-447e-e476-8380526f9f81"
      },
      "source": [
        "map = folium.Map()\n",
        "HeatMap(lat_lon_pairs).add_to(map)\n",
        "map"
      ],
      "execution_count": 38,
      "outputs": [
        {
          "output_type": "execute_result",
          "data": {
            "text/html": [
              "<div style=\"width:100%;\"><div style=\"position:relative;width:100%;height:0;padding-bottom:60%;\"><span style=\"color:#565656\">Make this Notebook Trusted to load map: File -> Trust Notebook</span><iframe src=\"about:blank\" style=\"position:absolute;width:100%;height:100%;left:0;top:0;border:none !important;\" data-html=%3C%21DOCTYPE%20html%3E%0A%3Chead%3E%20%20%20%20%0A%20%20%20%20%3Cmeta%20http-equiv%3D%22content-type%22%20content%3D%22text/html%3B%20charset%3DUTF-8%22%20/%3E%0A%20%20%20%20%3Cscript%3EL_PREFER_CANVAS%3Dfalse%3B%20L_NO_TOUCH%3Dfalse%3B%20L_DISABLE_3D%3Dfalse%3B%3C/script%3E%0A%20%20%20%20%3Cscript%20src%3D%22https%3A//cdn.jsdelivr.net/npm/leaflet%401.4.0/dist/leaflet.js%22%3E%3C/script%3E%0A%20%20%20%20%3Cscript%20src%3D%22https%3A//code.jquery.com/jquery-1.12.4.min.js%22%3E%3C/script%3E%0A%20%20%20%20%3Cscript%20src%3D%22https%3A//maxcdn.bootstrapcdn.com/bootstrap/3.2.0/js/bootstrap.min.js%22%3E%3C/script%3E%0A%20%20%20%20%3Cscript%20src%3D%22https%3A//cdnjs.cloudflare.com/ajax/libs/Leaflet.awesome-markers/2.0.2/leaflet.awesome-markers.js%22%3E%3C/script%3E%0A%20%20%20%20%3Clink%20rel%3D%22stylesheet%22%20href%3D%22https%3A//cdn.jsdelivr.net/npm/leaflet%401.4.0/dist/leaflet.css%22/%3E%0A%20%20%20%20%3Clink%20rel%3D%22stylesheet%22%20href%3D%22https%3A//maxcdn.bootstrapcdn.com/bootstrap/3.2.0/css/bootstrap.min.css%22/%3E%0A%20%20%20%20%3Clink%20rel%3D%22stylesheet%22%20href%3D%22https%3A//maxcdn.bootstrapcdn.com/bootstrap/3.2.0/css/bootstrap-theme.min.css%22/%3E%0A%20%20%20%20%3Clink%20rel%3D%22stylesheet%22%20href%3D%22https%3A//maxcdn.bootstrapcdn.com/font-awesome/4.6.3/css/font-awesome.min.css%22/%3E%0A%20%20%20%20%3Clink%20rel%3D%22stylesheet%22%20href%3D%22https%3A//cdnjs.cloudflare.com/ajax/libs/Leaflet.awesome-markers/2.0.2/leaflet.awesome-markers.css%22/%3E%0A%20%20%20%20%3Clink%20rel%3D%22stylesheet%22%20href%3D%22https%3A//rawcdn.githack.com/python-visualization/folium/master/folium/templates/leaflet.awesome.rotate.css%22/%3E%0A%20%20%20%20%3Cstyle%3Ehtml%2C%20body%20%7Bwidth%3A%20100%25%3Bheight%3A%20100%25%3Bmargin%3A%200%3Bpadding%3A%200%3B%7D%3C/style%3E%0A%20%20%20%20%3Cstyle%3E%23map%20%7Bposition%3Aabsolute%3Btop%3A0%3Bbottom%3A0%3Bright%3A0%3Bleft%3A0%3B%7D%3C/style%3E%0A%20%20%20%20%0A%20%20%20%20%3Cmeta%20name%3D%22viewport%22%20content%3D%22width%3Ddevice-width%2C%0A%20%20%20%20%20%20%20%20initial-scale%3D1.0%2C%20maximum-scale%3D1.0%2C%20user-scalable%3Dno%22%20/%3E%0A%20%20%20%20%3Cstyle%3E%23map_cb8a6554d38c43af99305620679c4612%20%7B%0A%20%20%20%20%20%20%20%20position%3A%20relative%3B%0A%20%20%20%20%20%20%20%20width%3A%20100.0%25%3B%0A%20%20%20%20%20%20%20%20height%3A%20100.0%25%3B%0A%20%20%20%20%20%20%20%20left%3A%200.0%25%3B%0A%20%20%20%20%20%20%20%20top%3A%200.0%25%3B%0A%20%20%20%20%20%20%20%20%7D%0A%20%20%20%20%3C/style%3E%0A%20%20%20%20%3Cscript%20src%3D%22https%3A//leaflet.github.io/Leaflet.heat/dist/leaflet-heat.js%22%3E%3C/script%3E%0A%3C/head%3E%0A%3Cbody%3E%20%20%20%20%0A%20%20%20%20%0A%20%20%20%20%3Cdiv%20class%3D%22folium-map%22%20id%3D%22map_cb8a6554d38c43af99305620679c4612%22%20%3E%3C/div%3E%0A%3C/body%3E%0A%3Cscript%3E%20%20%20%20%0A%20%20%20%20%0A%20%20%20%20%0A%20%20%20%20%20%20%20%20var%20bounds%20%3D%20null%3B%0A%20%20%20%20%0A%0A%20%20%20%20var%20map_cb8a6554d38c43af99305620679c4612%20%3D%20L.map%28%0A%20%20%20%20%20%20%20%20%27map_cb8a6554d38c43af99305620679c4612%27%2C%20%7B%0A%20%20%20%20%20%20%20%20center%3A%20%5B0%2C%200%5D%2C%0A%20%20%20%20%20%20%20%20zoom%3A%201%2C%0A%20%20%20%20%20%20%20%20maxBounds%3A%20bounds%2C%0A%20%20%20%20%20%20%20%20layers%3A%20%5B%5D%2C%0A%20%20%20%20%20%20%20%20worldCopyJump%3A%20false%2C%0A%20%20%20%20%20%20%20%20crs%3A%20L.CRS.EPSG3857%2C%0A%20%20%20%20%20%20%20%20zoomControl%3A%20true%2C%0A%20%20%20%20%20%20%20%20%7D%29%3B%0A%0A%0A%20%20%20%20%0A%20%20%20%20var%20tile_layer_f43c226f555643e2bd294963efca824e%20%3D%20L.tileLayer%28%0A%20%20%20%20%20%20%20%20%27https%3A//%7Bs%7D.tile.openstreetmap.org/%7Bz%7D/%7Bx%7D/%7By%7D.png%27%2C%0A%20%20%20%20%20%20%20%20%7B%0A%20%20%20%20%20%20%20%20%22attribution%22%3A%20null%2C%0A%20%20%20%20%20%20%20%20%22detectRetina%22%3A%20false%2C%0A%20%20%20%20%20%20%20%20%22maxNativeZoom%22%3A%2018%2C%0A%20%20%20%20%20%20%20%20%22maxZoom%22%3A%2018%2C%0A%20%20%20%20%20%20%20%20%22minZoom%22%3A%200%2C%0A%20%20%20%20%20%20%20%20%22noWrap%22%3A%20false%2C%0A%20%20%20%20%20%20%20%20%22opacity%22%3A%201%2C%0A%20%20%20%20%20%20%20%20%22subdomains%22%3A%20%22abc%22%2C%0A%20%20%20%20%20%20%20%20%22tms%22%3A%20false%0A%7D%29.addTo%28map_cb8a6554d38c43af99305620679c4612%29%3B%0A%20%20%20%20%0A%20%20%20%20%20%20%20%20%20%20%20%20var%20heat_map_604834029f7c43058c5238c616ee26d2%20%3D%20L.heatLayer%28%0A%20%20%20%20%20%20%20%20%20%20%20%20%20%20%20%20%5B%5B41.03456%2C%20-74.11188%5D%2C%20%5B40.13429%2C%20-74.117299%5D%2C%20%5B32.79006%2C%20-97.25265999999999%5D%2C%20%5B33.377671%2C%20-112.08718999999999%5D%2C%20%5B41.29958%2C%20-96.02388%5D%2C%20%5B35.408119%2C%20-80.860239%5D%2C%20%5B41.497778000000004%2C%20-122.46429199999999%5D%2C%20%5B30.153769%2C%20-97.656687%5D%2C%20%5B29.770701000000003%2C%20-95.21966%5D%2C%20%5B45.612359999999995%2C%20-94.02741%5D%2C%20%5B35.358388%2C%20-80.822717%5D%2C%20%5B30.471017%2C%20-91.058077%5D%2C%20%5B40.19885%2C%20-104.97993999999998%5D%2C%20%5B44.9649%2C%20-93.28739%5D%2C%20%5B35.79994%2C%20-78.519686%5D%2C%20%5B33.947062%2C%20-117.29990600000001%5D%2C%20%5B34.04784%2C%20-118.26657%5D%2C%20%5B37.88178%2C%20-122.30826%5D%2C%20%5B36.86398%2C%20-76.3517%5D%2C%20%5B38.787177%2C%20-120.205868%5D%2C%20%5B25.737779999999997%2C%20-80.38459%5D%2C%20%5B44.480961%2C%20-88.07216700000001%5D%2C%20%5B34.02309%2C%20-117.33635%5D%2C%20%5B41.41708%2C%20-73.42823%5D%2C%20%5B37.396570000000004%2C%20-121.874545%5D%2C%20%5B33.825390000000006%2C%20-118.22381999999999%5D%2C%20%5B42.21086%2C%20-71.54399000000001%5D%2C%20%5B29.989596999999996%2C%20-90.072513%5D%2C%20%5B42.87917%2C%20-71.48640999999999%5D%2C%20%5B28.236919%2C%20-82.354386%5D%2C%20%5B33.838689%2C%20-118.088394%5D%2C%20%5B39.417770000000004%2C%20-76.62904%5D%2C%20%5B28.560640000000003%2C%20-81.19124000000001%5D%2C%20%5B30.573369%2C%20-87.410916%5D%2C%20%5B34.015246000000005%2C%20-117.086897%5D%2C%20%5B41.87124%2C%20-87.83788%5D%2C%20%5B35.264548%2C%20-80.842598%5D%2C%20%5B40.73213%2C%20-111.94986999999999%5D%2C%20%5B35.248898%2C%20-119.128395%5D%2C%20%5B32.4547%2C%20-93.736298%5D%2C%20%5B35.59465%2C%20-97.58605%5D%2C%20%5B42.91254%2C%20-85.58341999999999%5D%2C%20%5B34.84292%2C%20-82.29305%5D%2C%20%5B41.19225%2C%20-73.19478000000001%5D%2C%20%5B35.851331%2C%20-78.580816%5D%2C%20%5B25.714063%2C%20-80.429422%5D%2C%20%5B34.358006%2C%20-117.798098%5D%2C%20%5B38.324870000000004%2C%20-119.75216999999999%5D%2C%20%5B43.01587%2C%20-85.76319000000001%5D%2C%20%5B44.18846%2C%20-124.11391%5D%2C%20%5B36.979425%2C%20-76.99964%5D%2C%20%5B38.77811%2C%20-77.17604%5D%2C%20%5B39.778420000000004%2C%20-104.9081%5D%2C%20%5B37.66896%2C%20-122.1094%5D%2C%20%5B43.479442%2C%20-70.60275899999999%5D%2C%20%5B38.893%2C%20-77.056%5D%2C%20%5B37.31651%2C%20-121.95780400000001%5D%2C%20%5B33.77758%2C%20-84.39076%5D%2C%20%5B30.42258%2C%20-91.1347%5D%2C%20%5B37.597846000000004%2C%20-121.946921%5D%2C%20%5B33.85993%2C%20-118.29548999999999%5D%2C%20%5B29.704555%2C%20-95.513305%5D%2C%20%5B40.981053%2C%20-73.74766899999999%5D%2C%20%5B41.77366%2C%20-87.97456%5D%2C%20%5B47.460454%2C%20-115.722802%5D%2C%20%5B37.652138%2C%20-122.098724%5D%2C%20%5B44.831788%2C%20-93.236717%5D%2C%20%5B41.31965%2C%20-72.34337%5D%2C%20%5B37.70697%2C%20-121.72838%5D%2C%20%5B40.428514%2C%20-79.937647%5D%2C%20%5B32.73686%2C%20-96.71634%5D%2C%20%5B28.29144%2C%20-80.74163%5D%2C%20%5B44.97685%2C%20-70.16875%5D%2C%20%5B32.660261%2C%20-96.729286%5D%2C%20%5B45.30064%2C%20-118.04076%5D%2C%20%5B29.446379999999998%2C%20-98.35716%5D%2C%20%5B34.136590000000005%2C%20-117.531079%5D%2C%20%5B33.765926%2C%20-117.937725%5D%2C%20%5B37.52942%2C%20-77.48538%5D%2C%20%5B30.232706%2C%20-97.90330300000001%5D%2C%20%5B37.867235%2C%20-122.201026%5D%2C%20%5B30.240342%2C%20-81.51446899999999%5D%2C%20%5B37.509879999999995%2C%20-122.3436%5D%2C%20%5B33.597846000000004%2C%20-117.67641%5D%2C%20%5B43.324681%2C%20-76.44431999999999%5D%2C%20%5B34.043031%2C%20-118.21722%5D%2C%20%5B34.148973%2C%20-118.46902%5D%2C%20%5B28.50923%2C%20-81.407441%5D%2C%20%5B28.604761%2C%20-81.723507%5D%2C%20%5B30.314578000000004%2C%20-81.668233%5D%2C%20%5B41.39012%2C%20-88.19296%5D%2C%20%5B39.955961%2C%20-76.67344200000001%5D%2C%20%5B38.934940000000005%2C%20-76.9509%5D%2C%20%5B25.627093%2C%20-80.38489%5D%2C%20%5B37.354989%2C%20-77.411854%5D%2C%20%5B32.206587%2C%20-110.84106799999999%5D%2C%20%5B38.23588%2C%20-122.10134%5D%2C%20%5B42.16751%2C%20-71.89390999999999%5D%2C%20%5B33.520435%2C%20-86.820605%5D%2C%20%5B36.167885%2C%20-86.809353%5D%2C%20%5B39.98839%2C%20-82.98569%5D%2C%20%5B33.925024%2C%20-118.32656100000001%5D%2C%20%5B28.236365000000003%2C%20-82.34976800000001%5D%2C%20%5B38.760667%2C%20-121.26006100000001%5D%2C%20%5B45.572709%2C%20-122.67858999999999%5D%2C%20%5B25.503857%2C%20-80.453148%5D%2C%20%5B34.06998%2C%20-117.128455%5D%2C%20%5B34.028574%2C%20-118.448356%5D%2C%20%5B33.39544%2C%20-117.593198%5D%2C%20%5B32.867686%2C%20-96.77011%5D%2C%20%5B33.96001%2C%20-118.28053%5D%2C%20%5B37.486938%2C%20-121.94086999999999%5D%2C%20%5B33.41106%2C%20-111.99551100000001%5D%2C%20%5B41.81277%2C%20-87.63072%5D%2C%20%5B33.941012%2C%20-118.096595%5D%2C%20%5B41.93962%2C%20-87.70819%5D%2C%20%5B34.205473%2C%20-119.040622%5D%2C%20%5B42.239571000000005%2C%20-83.342045%5D%2C%20%5B44.436040999999996%2C%20-121.936393%5D%2C%20%5B39.44218%2C%20-76.34431%5D%2C%20%5B35.36463%2C%20-119.04035%5D%2C%20%5B29.78414%2C%20-95.52798%5D%2C%20%5B40.71337%2C%20-111.81825%5D%2C%20%5B44.667091%2C%20-93.615093%5D%2C%20%5B38.882969%2C%20-77.22241600000001%5D%2C%20%5B39.21689%2C%20-76.65684%5D%2C%20%5B37.953882%2C%20-122.054175%5D%2C%20%5B35.840001%2C%20-78.677142%5D%2C%20%5B33.687603%2C%20-117.871847%5D%2C%20%5B26.5236%2C%20-80.1725%5D%2C%20%5B41.890851%2C%20-87.962265%5D%2C%20%5B40.66454%2C%20-73.8454%5D%2C%20%5B45.00796%2C%20-93.10129%5D%2C%20%5B33.93919%2C%20-117.15988%5D%2C%20%5B36.763923999999996%2C%20-121.75558899999999%5D%2C%20%5B41.90906%2C%20-87.92896%5D%2C%20%5B25.897111%2C%20-80.247697%5D%2C%20%5B32.7789%2C%20-117.10199399999999%5D%2C%20%5B33.133520000000004%2C%20-117.12489%5D%2C%20%5B38.942431%2C%20-121.09731399999998%5D%2C%20%5B33.605664000000004%2C%20-114.534026%5D%2C%20%5B29.704383%2C%20-95.422895%5D%2C%20%5B43.151212%2C%20-77.539124%5D%2C%20%5B30.423596999999997%2C%20-91.144584%5D%2C%20%5B40.726479%2C%20-78.404241%5D%2C%20%5B28.51012%2C%20-81.256599%5D%2C%20%5B33.725390999999995%2C%20-117.803279%5D%2C%20%5B39.305170000000004%2C%20-76.74906999999999%5D%2C%20%5B33.80272%2C%20-118.13193000000001%5D%2C%20%5B32.189554%2C%20-110.999609%5D%2C%20%5B43.065758%2C%20-124.41523000000001%5D%2C%20%5B39.2393%2C%20-76.61043000000001%5D%2C%20%5B34.06714%2C%20-117.42979%5D%2C%20%5B40.660140000000006%2C%20-111.95246000000002%5D%2C%20%5B34.03996%2C%20-117.80318%5D%2C%20%5B25.930062%2C%20-80.293485%5D%2C%20%5B41.957576%2C%20-73.89371%5D%2C%20%5B37.42528%2C%20-122.09804%5D%2C%20%5B37.81053%2C%20-122.36464%5D%2C%20%5B42.170120000000004%2C%20-121.69807%5D%2C%20%5B34.052692%2C%20-118.225625%5D%2C%20%5B44.127128000000006%2C%20-124.123602%5D%2C%20%5B35.41615%2C%20-80.47737%5D%2C%20%5B41.284103%2C%20-73.04458699999999%5D%2C%20%5B34.06807%2C%20-118.033498%5D%2C%20%5B28.037011%2C%20-82.06549%5D%2C%20%5B41.94842%2C%20-87.72163%5D%2C%20%5B38.610785%2C%20-121.41526299999998%5D%2C%20%5B27.955786%2C%20-82.355584%5D%2C%20%5B32.78685%2C%20-96.79145%5D%2C%20%5B31.718490000000003%2C%20-106.26898%5D%2C%20%5B36.612702%2C%20-121.567154%5D%2C%20%5B39.12706%2C%20-77.78891899999999%5D%2C%20%5B43.029959999999996%2C%20-83.595603%5D%2C%20%5B42.48953%2C%20-83.28806%5D%2C%20%5B45.604386%2C%20-120.165598%5D%2C%20%5B25.872684%2C%20-80.208896%5D%2C%20%5B39.191095000000004%2C%20-120.999821%5D%2C%20%5B45.557415999999996%2C%20-93.59170300000001%5D%2C%20%5B38.85183%2C%20-77.00688000000001%5D%2C%20%5B41.81091%2C%20-71.35161%5D%2C%20%5B35.445791%2C%20-80.866259%5D%2C%20%5B38.72708%2C%20-121.2876%5D%2C%20%5B37.752049%2C%20-121.46783500000001%5D%2C%20%5B25.920579999999998%2C%20-80.21030999999999%5D%2C%20%5B34.072219%2C%20-117.94174%5D%2C%20%5B42.3493%2C%20-87.87418000000001%5D%2C%20%5B25.92582%2C%20-80.20699%5D%2C%20%5B34.06754%2C%20-117.55608000000001%5D%2C%20%5B43.611619%2C%20-84.555762%5D%2C%20%5B34.209213%2C%20-118.22762900000001%5D%2C%20%5B29.967270000000003%2C%20-90.10704%5D%2C%20%5B39.913391%2C%20-76.924565%5D%2C%20%5B37.45952%2C%20-77.54691%5D%2C%20%5B40.691541%2C%20-111.54415%5D%2C%20%5B33.12189%2C%20-117.31348999999999%5D%2C%20%5B39.22725%2C%20-76.66544%5D%2C%20%5B29.80177%2C%20-95.33963%5D%2C%20%5B35.305049%2C%20-118.91433700000002%5D%2C%20%5B30.657976%2C%20-81.630651%5D%2C%20%5B36.10989%2C%20-115.1805%5D%2C%20%5B37.396440000000005%2C%20-122.01678899999999%5D%2C%20%5B41.47443%2C%20-81.71089%5D%2C%20%5B42.323890000000006%2C%20-88.96465%5D%2C%20%5B34.0371%2C%20-118.2974%5D%2C%20%5B33.873290000000004%2C%20-118.34263999999999%5D%2C%20%5B25.899614%2C%20-80.182822%5D%2C%20%5B30.289573999999998%2C%20-81.978703%5D%2C%20%5B39.76628%2C%20-86.14286%5D%2C%20%5B26.01015%2C%20-80.20754000000001%5D%2C%20%5B40.750198%2C%20-111.91008799999999%5D%2C%20%5B25.924869%2C%20-80.299297%5D%2C%20%5B34.464796%2C%20-118.543318%5D%2C%20%5B35.932629999999996%2C%20-86.52931%5D%2C%20%5B36.028009999999995%2C%20-87.176%5D%2C%20%5B45.130590000000005%2C%20-93.4883%5D%2C%20%5B47.18435%2C%20-122.22931000000001%5D%2C%20%5B32.70969%2C%20-96.62151999999999%5D%2C%20%5B36.0821%2C%20-86.710068%5D%2C%20%5B28.291560999999998%2C%20-82.67747299999999%5D%2C%20%5B37.48722%2C%20-121.94161000000001%5D%2C%20%5B38.26293%2C%20-79.15431%5D%2C%20%5B30.19485%2C%20-95.45395%5D%2C%20%5B45.49027%2C%20-122.57882%5D%2C%20%5B28.32207%2C%20-82.69937%5D%2C%20%5B40.98611%2C%20-74.16671%5D%2C%20%5B33.854001000000004%2C%20-117.959244%5D%2C%20%5B33.43542%2C%20-111.89718%5D%2C%20%5B33.64462%2C%20-79.02696%5D%2C%20%5B39.9786%2C%20-82.97569%5D%2C%20%5B42.912681%2C%20-85.632605%5D%2C%20%5B29.931739%2C%20-95.298811%5D%2C%20%5B37.630368%2C%20-122.11423400000001%5D%2C%20%5B38.385490000000004%2C%20-122.71611000000001%5D%2C%20%5B25.753025%2C%20-80.400545%5D%2C%20%5B34.79453%2C%20-92.38845%5D%2C%20%5B29.703408000000003%2C%20-95.614864%5D%2C%20%5B34.093444%2C%20-84.532752%5D%2C%20%5B40.163257%2C%20-75.258527%5D%2C%20%5B34.4886%2C%20-118.28648999999999%5D%2C%20%5B37.842597999999995%2C%20-122.297583%5D%2C%20%5B34.345420000000004%2C%20-79.53068%5D%2C%20%5B37.673868%2C%20-121.46024399999999%5D%2C%20%5B34.01206%2C%20-118.418456%5D%2C%20%5B40.911640999999996%2C%20-111.89123000000001%5D%2C%20%5B34.226214%2C%20-118.375472%5D%2C%20%5B45.845279999999995%2C%20-95.39236%5D%2C%20%5B41.84789%2C%20-87.95785%5D%2C%20%5B37.714728%2C%20-121.710007%5D%2C%20%5B33.907949%2C%20-81.224626%5D%2C%20%5B34.058851000000004%2C%20-117.786515%5D%2C%20%5B34.266090000000005%2C%20-118.47158999999999%5D%2C%20%5B33.854113%2C%20-117.91986200000001%5D%2C%20%5B32.749181%2C%20-85.2784%5D%2C%20%5B44.132951%2C%20-124.12191999999999%5D%2C%20%5B33.505829999999996%2C%20-112.03886999999999%5D%2C%20%5B34.09553%2C%20-118.24403999999998%5D%2C%20%5B38.640588%2C%20-78.444582%5D%2C%20%5B35.358234%2C%20-82.421864%5D%2C%20%5B25.882953%2C%20-80.353153%5D%2C%20%5B29.978107%2C%20-90.09664599999999%5D%2C%20%5B41.71363%2C%20-87.65149%5D%2C%20%5B33.435559999999995%2C%20-112.5562%5D%2C%20%5B33.91641%2C%20-117.31464799999999%5D%2C%20%5B38.750951%2C%20-121.54049499999999%5D%2C%20%5B25.950682999999998%2C%20-80.43104699999999%5D%2C%20%5B33.069202000000004%2C%20-117.069174%5D%2C%20%5B40.934782%2C%20-73.865086%5D%2C%20%5B37.35386%2C%20-122.08917%5D%2C%20%5B32.625276%2C%20-117.094172%5D%2C%20%5B34.05938%2C%20-118.24545%5D%2C%20%5B34.071647%2C%20-118.108106%5D%2C%20%5B40.746686%2C%20-111.645614%5D%2C%20%5B39.487344%2C%20-77.397926%5D%2C%20%5B34.012469%2C%20-118.490532%5D%2C%20%5B47.572377%2C%20-122.17714099999999%5D%2C%20%5B39.5031%2C%20-77.577929%5D%2C%20%5B47.222845%2C%20-122.434044%5D%2C%20%5B42.239948%2C%20-87.870307%5D%2C%20%5B27.762970000000003%2C%20-82.66218%5D%2C%20%5B37.15876%2C%20-121.98257%5D%2C%20%5B39.85275%2C%20-86.27893%5D%2C%20%5B47.547057%2C%20-122.309426%5D%2C%20%5B34.320664%2C%20-118.495922%5D%2C%20%5B25.672566%2C%20-80.36480999999999%5D%2C%20%5B33.483045000000004%2C%20-117.141402%5D%2C%20%5B32.931765000000006%2C%20-97.094904%5D%2C%20%5B30.188273%2C%20-81.557339%5D%2C%20%5B34.001559%2C%20-117.837005%5D%2C%20%5B32.838266%2C%20-116.680332%5D%2C%20%5B32.763408%2C%20-117.127357%5D%2C%20%5B39.10687%2C%20-94.58851999999999%5D%2C%20%5B37.14435%2C%20-121.98468000000001%5D%2C%20%5B44.966104%2C%20-93.255346%5D%2C%20%5B41.93979%2C%20-87.65893%5D%2C%20%5B39.602214000000004%2C%20-104.88899199999999%5D%2C%20%5B35.3176%2C%20-119.038871%5D%2C%20%5B41.738820000000004%2C%20-72.66256%5D%2C%20%5B25.785652%2C%20-80.288611%5D%2C%20%5B40.752359999999996%2C%20-111.91071000000001%5D%2C%20%5B34.078987%2C%20-118.291693%5D%2C%20%5B45.09428%2C%20-93.29004%5D%2C%20%5B35.213651%2C%20-80.85561899999999%5D%2C%20%5B34.150529999999996%2C%20-118.46828000000001%5D%2C%20%5B33.16372%2C%20-117.21179%5D%2C%20%5B37.52077%2C%20-77.43175%5D%2C%20%5B45.428641999999996%2C%20-118.357823%5D%2C%20%5B38.798482%2C%20-77.167897%5D%2C%20%5B37.895439%2C%20-122.11330500000001%5D%2C%20%5B34.1211%2C%20-118.47972%5D%2C%20%5B35.261359999999996%2C%20-81.11239%5D%2C%20%5B33.378602%2C%20-112.116454%5D%2C%20%5B38.637076%2C%20-121.383059%5D%2C%20%5B38.610638%2C%20-121.40152900000001%5D%2C%20%5B34.083333%2C%20-118.228204%5D%2C%20%5B47.610440999999994%2C%20-117.418677%5D%2C%20%5B35.54398%2C%20-78.23442%5D%2C%20%5B37.351341999999995%2C%20-120.624344%5D%2C%20%5B37.019951%2C%20-122.01766299999998%5D%2C%20%5B42.706759999999996%2C%20-86.03488%5D%2C%20%5B36.818844%2C%20-76.34364000000001%5D%2C%20%5B38.94095%2C%20-94.59231%5D%2C%20%5B32.773053999999995%2C%20-117.128275%5D%2C%20%5B34.840331%2C%20-82.476613%5D%2C%20%5B36.091386%2C%20-119.03936499999999%5D%2C%20%5B43.164623%2C%20-77.633972%5D%2C%20%5B39.191503000000004%2C%20-121.00541499999999%5D%2C%20%5B37.70227%2C%20-121.74506000000001%5D%2C%20%5B39.31842%2C%20-76.65245%5D%2C%20%5B38.77022%2C%20-77.53768000000001%5D%2C%20%5B34.27783%2C%20-118.50793999999999%5D%2C%20%5B38.87545%2C%20-121.13096000000002%5D%2C%20%5B39.70709%2C%20-111.81871000000001%5D%2C%20%5B34.501490000000004%2C%20-118.117782%5D%2C%20%5B25.670988%2C%20-80.413044%5D%2C%20%5B38.31734%2C%20-85.5761%5D%2C%20%5B34.98826%2C%20-81.96715999999999%5D%2C%20%5B30.275863%2C%20-97.59993100000001%5D%2C%20%5B37.411167%2C%20-120.667726%5D%2C%20%5B34.073060999999996%2C%20-118.21915600000001%5D%2C%20%5B38.482279999999996%2C%20-122.73685%5D%2C%20%5B35.859%2C%20-78.68011%5D%2C%20%5B39.134209999999996%2C%20-94.4991%5D%2C%20%5B34.134440000000005%2C%20-117.95702%5D%2C%20%5B35.055195%2C%20-85.13744399999999%5D%2C%20%5B44.93392%2C%20-123.23397%5D%2C%20%5B40.780590000000004%2C%20-78.77708%5D%2C%20%5B40.160579999999996%2C%20-75.14972%5D%2C%20%5B38.89167%2C%20-77.064033%5D%2C%20%5B36.196549%2C%20-81.426583%5D%2C%20%5B30.715745000000002%2C%20-85.93006899999999%5D%2C%20%5B40.783522999999995%2C%20-73.625093%5D%2C%20%5B35.66942%2C%20-82.99659100000001%5D%2C%20%5B40.560142%2C%20-111.42710100000001%5D%2C%20%5B37.473205%2C%20-122.20616000000001%5D%2C%20%5B33.837708%2C%20-117.12401200000001%5D%2C%20%5B33.38653%2C%20-111.69927%5D%2C%20%5B40.097215999999996%2C%20-80.064211%5D%2C%20%5B35.19591%2C%20-80.78996%5D%2C%20%5B46.76919%2C%20-92.11853%5D%2C%20%5B42.387755%2C%20-122.349324%5D%2C%20%5B41.255309999999994%2C%20-73.80814000000001%5D%2C%20%5B37.026832%2C%20-121.56921399999999%5D%2C%20%5B37.704681%2C%20-121.08341899999999%5D%2C%20%5B28.561504%2C%20-81.379615%5D%2C%20%5B43.161615999999995%2C%20-88.262487%5D%2C%20%5B43.58932%2C%20-89.79949%5D%2C%20%5B28.524335999999998%2C%20-81.324238%5D%2C%20%5B38.740086%2C%20-121.273459%5D%2C%20%5B44.925670000000004%2C%20-123.01761%5D%2C%20%5B40.68801%2C%20-73.72291%5D%2C%20%5B41.72977%2C%20-87.9774%5D%2C%20%5B43.599742%2C%20-116.505785%5D%2C%20%5B44.64152%2C%20-123.06271000000001%5D%2C%20%5B39.94883%2C%20-75.14161%5D%2C%20%5B33.930855%2C%20-118.38748000000001%5D%2C%20%5B42.5647%2C%20-83.07035%5D%2C%20%5B34.778591%2C%20-92.25309200000001%5D%2C%20%5B32.87908%2C%20-80.02465%5D%2C%20%5B40.74608%2C%20-74.09857099999999%5D%2C%20%5B40.54926%2C%20-74.53997%5D%2C%20%5B25.770007999999997%2C%20-80.319574%5D%2C%20%5B47.585227%2C%20-122.320297%5D%2C%20%5B35.804691999999996%2C%20-78.643967%5D%2C%20%5B27.943409000000003%2C%20-82.333634%5D%2C%20%5B35.67025%2C%20-78.92745%5D%2C%20%5B40.63043%2C%20-111.87786000000001%5D%2C%20%5B35.08502%2C%20-80.87356%5D%2C%20%5B42.106287%2C%20-84.987545%5D%2C%20%5B37.964786%2C%20-122.058249%5D%2C%20%5B35.812221%2C%20-78.60349699999999%5D%2C%20%5B39.70473%2C%20-105.19299%5D%2C%20%5B40.006725%2C%20-75.193511%5D%2C%20%5B41.04077%2C%20-73.79890999999999%5D%2C%20%5B41.806956%2C%20-88.076615%5D%2C%20%5B35.307790000000004%2C%20-80.84534000000001%5D%2C%20%5B35.3875%2C%20-119.04465%5D%2C%20%5B40.24812%2C%20-105.28931200000001%5D%2C%20%5B35.81848%2C%20-78.68892%5D%2C%20%5B35.19896%2C%20-80.84639%5D%2C%20%5B45.11825%2C%20-93.20398%5D%2C%20%5B39.86551%2C%20-84.06441%5D%2C%20%5B41.040596%2C%20-73.761663%5D%2C%20%5B38.81876%2C%20-77.22235%5D%2C%20%5B38.093726000000004%2C%20-120.581728%5D%2C%20%5B37.92907%2C%20-121.25693899999999%5D%2C%20%5B35.820996%2C%20-78.704913%5D%2C%20%5B30.474788%2C%20-87.221705%5D%2C%20%5B32.8207%2C%20-83.655856%5D%2C%20%5B40.837516%2C%20-73.880786%5D%2C%20%5B27.949540000000002%2C%20-82.35413%5D%2C%20%5B34.506559%2C%20-117.54956899999999%5D%2C%20%5B36.150892%2C%20-78.905407%5D%2C%20%5B44.78225%2C%20-93.28836%5D%2C%20%5B33.193992%2C%20-117.151324%5D%2C%20%5B42.33893%2C%20-88.51126%5D%2C%20%5B33.495470000000005%2C%20-112.13422299999999%5D%2C%20%5B36.32832%2C%20-119.60101%5D%2C%20%5B34.052009999999996%2C%20-118.25981999999999%5D%2C%20%5B33.668106%2C%20-112.08276599999999%5D%2C%20%5B34.014035%2C%20-117.819423%5D%2C%20%5B34.162141999999996%2C%20-80.93424%5D%2C%20%5B45.58486%2C%20-122.67958999999999%5D%2C%20%5B36.119679999999995%2C%20-86.85481%5D%2C%20%5B38.20848%2C%20-85.75236%5D%2C%20%5B33.84039%2C%20-117.530381%5D%2C%20%5B45.500440000000005%2C%20-122.67481299999999%5D%2C%20%5B40.74159%2C%20-111.90256000000001%5D%2C%20%5B47.889920000000004%2C%20-122.73232%5D%2C%20%5B34.06384%2C%20-117.2861%5D%2C%20%5B34.011990000000004%2C%20-117.43426000000001%5D%2C%20%5B33.673994%2C%20-117.83573999999999%5D%2C%20%5B47.459271%2C%20-122.217123%5D%2C%20%5B32.67514%2C%20-117.1095%5D%2C%20%5B47.4542%2C%20-122.2639%5D%2C%20%5B35.894346%2C%20-78.859794%5D%2C%20%5B35.16628%2C%20-80.88909%5D%2C%20%5B38.906959%2C%20-77.258436%5D%2C%20%5B32.25062%2C%20-110.8754%5D%2C%20%5B33.55819%2C%20-112.11346999999999%5D%2C%20%5B40.72576%2C%20-73.90074%5D%2C%20%5B38.736540000000005%2C%20-77.19247%5D%2C%20%5B40.663627000000005%2C%20-111.49999%5D%2C%20%5B25.781553%2C%20-80.357834%5D%2C%20%5B36.854056%2C%20-119.948848%5D%2C%20%5B33.72136%2C%20-117.83887%5D%2C%20%5B39.0791%2C%20-85.71706%5D%2C%20%5B37.78699%2C%20-122.389859%5D%2C%20%5B34.070464%2C%20-117.370193%5D%2C%20%5B44.509679999999996%2C%20-92.92021%5D%2C%20%5B45.19441%2C%20-118.00822600000001%5D%2C%20%5B32.95224%2C%20-97.31065%5D%2C%20%5B33.89138%2C%20-118.10475%5D%2C%20%5B38.805004%2C%20-121.35854099999999%5D%2C%20%5B32.77742%2C%20-96.78339%5D%2C%20%5B41.659755%2C%20-78.808766%5D%2C%20%5B44.5059%2C%20-93.28909%5D%2C%20%5B38.004031%2C%20-120.385297%5D%2C%20%5B39.944175%2C%20-111.203428%5D%2C%20%5B27.997740000000004%2C%20-81.99141999999999%5D%2C%20%5B43.167528000000004%2C%20-77.683155%5D%2C%20%5B45.54898%2C%20-122.67882%5D%2C%20%5B34.031684999999996%2C%20-118.021928%5D%2C%20%5B37.363445%2C%20-121.89721999999999%5D%2C%20%5B39.783246999999996%2C%20-105.12778200000001%5D%2C%20%5B40.79679%2C%20-72.86593%5D%2C%20%5B34.27262%2C%20-118.55966000000001%5D%2C%20%5B42.30601%2C%20-87.92097%5D%2C%20%5B35.9788%2C%20-119.27726899999999%5D%2C%20%5B38.219257%2C%20-121.17126999999999%5D%2C%20%5B34.077225%2C%20-112.139625%5D%2C%20%5B34.074944%2C%20-117.29539199999999%5D%2C%20%5B26.181493%2C%20-80.152917%5D%2C%20%5B33.318092%2C%20-84.782638%5D%2C%20%5B38.820746%2C%20-122.577373%5D%2C%20%5B41.17483%2C%20-73.16234%5D%2C%20%5B26.524%2C%20-80.07266%5D%2C%20%5B40.32628%2C%20-111.72941999999999%5D%2C%20%5B30.291786%2C%20-97.72158%5D%2C%20%5B37.868384999999996%2C%20-122.50723899999998%5D%2C%20%5B34.025481%2C%20-118.20572299999999%5D%2C%20%5B33.888090000000005%2C%20-117.55196200000002%5D%2C%20%5B33.606084%2C%20-92.019522%5D%2C%20%5B39.037889%2C%20-77.05060300000001%5D%2C%20%5B34.03338%2C%20-118.17028%5D%2C%20%5B36.114000000000004%2C%20-86.72438000000001%5D%2C%20%5B42.62189%2C%20-71.17685%5D%2C%20%5B41.380941%2C%20-112.04205%5D%2C%20%5B41.727109999999996%2C%20-87.62476%5D%2C%20%5B41.832834999999996%2C%20-73.151251%5D%2C%20%5B34.156918%2C%20-118.44868500000001%5D%2C%20%5B37.33423%2C%20-122.03636000000002%5D%2C%20%5B36.758185%2C%20-76.299566%5D%2C%20%5B39.16536%2C%20-94.55932%5D%2C%20%5B32.395044%2C%20-90.14534300000001%5D%2C%20%5B30.555925%2C%20-87.310948%5D%2C%20%5B34.11854%2C%20-117.8654%5D%2C%20%5B44.65656%2C%20-93.62852%5D%2C%20%5B39.75015%2C%20-105.017099%5D%2C%20%5B39.62366%2C%20-79.909099%5D%2C%20%5B37.602805%2C%20-77.45774300000001%5D%2C%20%5B38.780113%2C%20-119.821348%5D%2C%20%5B38.01637%2C%20-121.20724799999999%5D%2C%20%5B37.819359999999996%2C%20-122.26924%5D%2C%20%5B40.32627%2C%20-111.736476%5D%2C%20%5B28.194129999999998%2C%20-82.63826%5D%2C%20%5B44.659579%2C%20-85.882695%5D%2C%20%5B42.7132%2C%20-73.82784000000001%5D%2C%20%5B38.896357%2C%20-77.215168%5D%2C%20%5B40.884058%2C%20-73.825988%5D%2C%20%5B39.94577%2C%20-75.1898%5D%2C%20%5B38.974769%2C%20-77.440988%5D%2C%20%5B34.747777%2C%20-92.407165%5D%2C%20%5B33.907123999999996%2C%20-117.88176100000001%5D%2C%20%5B28.434721999999997%2C%20-81.25717900000001%5D%2C%20%5B34.489826%2C%20-118.61916399999998%5D%2C%20%5B34.835570000000004%2C%20-82.30611999999999%5D%2C%20%5B43.0321%2C%20-87.97052%5D%2C%20%5B38.252129%2C%20-122.48969699999999%5D%2C%20%5B37.964821%2C%20-121.740553%5D%2C%20%5B37.65772%2C%20-77.44864100000001%5D%2C%20%5B34.03471%2C%20-118.36733999999998%5D%2C%20%5B37.605191%2C%20-112.93648999999999%5D%2C%20%5B40.803259000000004%2C%20-73.914887%5D%2C%20%5B43.15105%2C%20-87.91626%5D%2C%20%5B40.736821%2C%20-111.744597%5D%2C%20%5B33.72483%2C%20-84.39398%5D%2C%20%5B40.624061%2C%20-74.216068%5D%2C%20%5B37.950742%2C%20-122.54978500000001%5D%2C%20%5B36.789229999999996%2C%20-76.22317%5D%2C%20%5B29.624606%2C%20-98.225347%5D%2C%20%5B33.7745%2C%20-118.06948%5D%2C%20%5B34.033869%2C%20-118.02720500000001%5D%2C%20%5B33.806594%2C%20-84.37898%5D%2C%20%5B36.66672%2C%20-121.81476%5D%2C%20%5B36.03134%2C%20-86.63958000000001%5D%2C%20%5B44.907478999999995%2C%20-122.98631%5D%2C%20%5B44.824532%2C%20-93.227707%5D%2C%20%5B35.352222%2C%20-118.99888899999999%5D%2C%20%5B27.967067%2C%20-82.453347%5D%2C%20%5B39.79787%2C%20-84.26243000000001%5D%2C%20%5B39.409621%2C%20-75.661886%5D%2C%20%5B43.324258%2C%20-121.760341%5D%2C%20%5B40.293859999999995%2C%20-83.06115%5D%2C%20%5B30.407334000000002%2C%20-87.273298%5D%2C%20%5B37.52158%2C%20-77.61277%5D%2C%20%5B37.30743%2C%20-121.82105%5D%2C%20%5B45.064467%2C%20-93.26337%5D%2C%20%5B32.808409999999995%2C%20-96.84431%5D%2C%20%5B40.11456%2C%20-75.1218%5D%2C%20%5B34.124736999999996%2C%20-117.20118400000001%5D%2C%20%5B29.84214%2C%20-95.39068%5D%2C%20%5B33.509456%2C%20-112.111893%5D%2C%20%5B33.957894%2C%20-118.111628%5D%2C%20%5B25.900921%2C%20-80.29202%5D%2C%20%5B41.799879%2C%20-83.772474%5D%2C%20%5B45.7519%2C%20-122.87755%5D%2C%20%5B30.206156%2C%20-81.576792%5D%2C%20%5B40.388135%2C%20-77.032032%5D%2C%20%5B29.726%2C%20-95.476537%5D%2C%20%5B33.67174%2C%20-117.755353%5D%2C%20%5B45.60282%2C%20-121.13871%5D%2C%20%5B45.51577%2C%20-122.69894%5D%2C%20%5B41.802%2C%20-87.62266%5D%2C%20%5B39.743526%2C%20-105.68236200000001%5D%2C%20%5B43.614090000000004%2C%20-118.940469%5D%2C%20%5B33.758359999999996%2C%20-84.3822%5D%2C%20%5B41.445640000000004%2C%20-74.36759%5D%2C%20%5B47.467234999999995%2C%20-122.228726%5D%2C%20%5B41.68484%2C%20-87.78055%5D%2C%20%5B33.141909999999996%2C%20-117.10457%5D%2C%20%5B41.67827%2C%20-72.87728%5D%2C%20%5B33.45945%2C%20-112.00757%5D%2C%20%5B42.94494%2C%20-78.7661%5D%2C%20%5B38.524001%2C%20-90.32020899999999%5D%2C%20%5B34.006279%2C%20-84.071384%5D%2C%20%5B33.938185%2C%20-118.36133400000001%5D%2C%20%5B44.88978%2C%20-93.349992%5D%2C%20%5B27.439903%2C%20-82.454903%5D%2C%20%5B27.47659%2C%20-82.286599%5D%2C%20%5B25.944221%2C%20-80.20534%5D%2C%20%5B45.52852%2C%20-122.65357%5D%2C%20%5B41.45913%2C%20-81.69382%5D%2C%20%5B45.17998%2C%20-93.11310999999999%5D%2C%20%5B37.54886%2C%20-77.41450999999999%5D%2C%20%5B45.06949%2C%20-93.292261%5D%2C%20%5B38.504387%2C%20-121.46383600000001%5D%2C%20%5B26.27437%2C%20-80.12317%5D%2C%20%5B25.688685999999997%2C%20-80.478628%5D%2C%20%5B34.16534%2C%20-118.46973%5D%2C%20%5B32.841617%2C%20-117.12383700000001%5D%2C%20%5B27.196246999999996%2C%20-82.473923%5D%2C%20%5B29.934040000000003%2C%20-90.08058%5D%2C%20%5B32.67991%2C%20-96.67172%5D%2C%20%5B35.248509999999996%2C%20-80.81620699999999%5D%2C%20%5B42.65137%2C%20-84.14513000000001%5D%2C%20%5B34.23274%2C%20-118.47299%5D%2C%20%5B33.789485%2C%20-117.88722%5D%2C%20%5B38.413041%2C%20-82.348247%5D%2C%20%5B28.612674%2C%20-81.437515%5D%2C%20%5B45.079159999999995%2C%20-93.17658%5D%2C%20%5B33.778909999999996%2C%20-117.88548%5D%2C%20%5B33.788940000000004%2C%20-117.88662%5D%2C%20%5B37.541628%2C%20-122.285081%5D%2C%20%5B39.249140000000004%2C%20-76.819249%5D%2C%20%5B47.187856%2C%20-95.10515500000001%5D%2C%20%5B37.98303%2C%20-77.49256899999999%5D%2C%20%5B43.90595%2C%20-122.74444%5D%2C%20%5B43.58804%2C%20-70.38898%5D%2C%20%5B42.49066%2C%20-84.44384000000001%5D%2C%20%5B34.06434%2C%20-118.25068999999999%5D%2C%20%5B37.083595%2C%20-120.26873700000002%5D%2C%20%5B26.660940000000004%2C%20-81.79975%5D%2C%20%5B37.87735%2C%20-122.184078%5D%2C%20%5B26.508196%2C%20-80.07459200000001%5D%2C%20%5B44.89253%2C%20-94.23655%5D%2C%20%5B44.862799%2C%20-93.129482%5D%2C%20%5B30.21397%2C%20-90.88464%5D%2C%20%5B34.03443%2C%20-118.38465%5D%2C%20%5B39.75587%2C%20-104.82778%5D%2C%20%5B40.72558%2C%20-112.20494%5D%2C%20%5B28.436%2C%20-81.40454%5D%2C%20%5B33.65225%2C%20-117.74096000000002%5D%2C%20%5B45.52531%2C%20-122.6867%5D%2C%20%5B41.18137%2C%20-85.627688%5D%2C%20%5B39.935024%2C%20-75.142481%5D%2C%20%5B42.40517%2C%20-83.42478%5D%2C%20%5B42.7227%2C%20-84.50666%5D%2C%20%5B33.698892%2C%20-84.269515%5D%2C%20%5B38.671456%2C%20-90.361937%5D%2C%20%5B44.51186%2C%20-73.05935%5D%2C%20%5B40.112140000000004%2C%20-83.04103%5D%2C%20%5B33.430431%2C%20-112.106273%5D%2C%20%5B42.3354%2C%20-83.06371999999999%5D%2C%20%5B45.470178000000004%2C%20-122.68798100000001%5D%2C%20%5B37.739335%2C%20-121.59082%5D%2C%20%5B42.533359999999995%2C%20-76.87701%5D%2C%20%5B28.450020000000002%2C%20-81.48808000000001%5D%2C%20%5B38.572371999999994%2C%20-121.467473%5D%2C%20%5B33.91738%2C%20-118.10479699999999%5D%2C%20%5B41.68662%2C%20-70.34087%5D%2C%20%5B33.612711%2C%20-117.930371%5D%2C%20%5B28.571396999999997%2C%20-81.372799%5D%2C%20%5B41.424368%2C%20-93.78023%5D%2C%20%5B45.47082%2C%20-122.68842%5D%2C%20%5B30.410916999999998%2C%20-91.06026800000001%5D%2C%20%5B25.991367%2C%20-80.166066%5D%2C%20%5B32.755371000000004%2C%20-117.096905%5D%2C%20%5B37.622015000000005%2C%20-122.13975500000001%5D%2C%20%5B35.31488%2C%20-80.75673%5D%2C%20%5B34.530637%2C%20-83.53138%5D%2C%20%5B42.542885%2C%20-74.81788%5D%2C%20%5B33.258103000000006%2C%20-117.23732%5D%2C%20%5B34.261503999999995%2C%20-111.204613%5D%2C%20%5B32.947128%2C%20-117.106903%5D%2C%20%5B33.17923%2C%20-117.3479%5D%2C%20%5B37.542202%2C%20-121.270701%5D%2C%20%5B39.769290000000005%2C%20-105.0252%5D%2C%20%5B39.59486%2C%20-104.88345%5D%2C%20%5B40.54976%2C%20-111.89591999999999%5D%2C%20%5B33.50955%2C%20-111.92613999999999%5D%2C%20%5B29.896309999999996%2C%20-95.41237%5D%2C%20%5B33.48425%2C%20-112.11318999999999%5D%2C%20%5B32.35883%2C%20-111.08962%5D%2C%20%5B38.71095%2C%20-90.28579%5D%2C%20%5B38.964031%2C%20-76.904972%5D%2C%20%5B38.836065999999995%2C%20-76.87618%5D%2C%20%5B33.880151%2C%20-117.56524399999999%5D%2C%20%5B27.343157%2C%20-82.44645899999999%5D%2C%20%5B45.405303%2C%20-94.044443%5D%2C%20%5B25.88759%2C%20-80.243312%5D%2C%20%5B45.0648%2C%20-93.163%5D%2C%20%5B32.83718%2C%20-97.1349%5D%2C%20%5B41.75284%2C%20-71.43878000000001%5D%2C%20%5B34.135459999999995%2C%20-117.96663000000001%5D%2C%20%5B40.1273%2C%20-77.35254%5D%2C%20%5B33.72449%2C%20-84.39401%5D%2C%20%5B45.865255%2C%20-123.57933700000001%5D%2C%20%5B41.037147999999995%2C%20-77.514716%5D%2C%20%5B35.23823%2C%20-80.89848%5D%2C%20%5B29.938299%2C%20-90.04115%5D%2C%20%5B39.7809%2C%20-76.178567%5D%2C%20%5B34.037037%2C%20-118.377532%5D%2C%20%5B37.757061%2C%20-122.14810800000001%5D%2C%20%5B32.57261%2C%20-84.96204%5D%2C%20%5B40.846406%2C%20-80.263162%5D%2C%20%5B34.921728%2C%20-81.989089%5D%2C%20%5B32.895196%2C%20-80.01897199999999%5D%2C%20%5B30.335715000000004%2C%20-97.758439%5D%2C%20%5B34.386724%2C%20-117.412122%5D%2C%20%5B40.02221%2C%20-107.95682%5D%2C%20%5B46.23506%2C%20-123.87196000000002%5D%2C%20%5B45.44498%2C%20-122.73702%5D%2C%20%5B38.868674%2C%20-123.58956%5D%2C%20%5B33.778012%2C%20-84.39076%5D%2C%20%5B32.39609%2C%20-110.95935%5D%2C%20%5B30.453639000000003%2C%20-91.180786%5D%2C%20%5B40.769090000000006%2C%20-80.86115%5D%2C%20%5B44.330715999999995%2C%20-124.098724%5D%2C%20%5B38.879459999999995%2C%20-77.24683399999999%5D%2C%20%5B26.155046%2C%20-81.29396700000001%5D%2C%20%5B32.6428%2C%20-97.18266%5D%2C%20%5B38.62975%2C%20-90.26954%5D%2C%20%5B39.994085%2C%20-75.697878%5D%2C%20%5B42.76062%2C%20-122.05931000000001%5D%2C%20%5B40.99235%2C%20-74.09578%5D%2C%20%5B33.831641%2C%20-118.208701%5D%2C%20%5B39.658666%2C%20-79.82525%5D%2C%20%5B25.712548%2C%20-80.382427%5D%2C%20%5B32.77604%2C%20-96.7852%5D%2C%20%5B44.899001%2C%20-93.40154%5D%2C%20%5B25.785601999999997%2C%20-80.214287%5D%2C%20%5B33.129748%2C%20-91.822575%5D%2C%20%5B38.772011%2C%20-121.245457%5D%2C%20%5B35.16676%2C%20-89.85795999999999%5D%2C%20%5B29.876364000000002%2C%20-95.484634%5D%2C%20%5B33.77678%2C%20-84.60206%5D%2C%20%5B33.982042%2C%20-118.2477%5D%2C%20%5B40.108979999999995%2C%20-80.20257%5D%2C%20%5B38.35309%2C%20-81.62777%5D%2C%20%5B42.10241%2C%20-87.76841999999999%5D%2C%20%5B34.071978%2C%20-118.109571%5D%2C%20%5B47.795322999999996%2C%20-102.76303399999999%5D%2C%20%5B45.18195%2C%20-93.10777%5D%2C%20%5B34.059258%2C%20-118.252587%5D%2C%20%5B36.844335%2C%20-76.196569%5D%2C%20%5B41.87174%2C%20-87.82963000000001%5D%2C%20%5B45.156756%2C%20-123.109052%5D%2C%20%5B43.52691%2C%20-123.30642900000001%5D%2C%20%5B34.0051%2C%20-117.39505%5D%2C%20%5B40.24904%2C%20-75.34605%5D%2C%20%5B40.807140000000004%2C%20-74.07686%5D%2C%20%5B40.845028000000006%2C%20-73.91734100000001%5D%2C%20%5B27.404448%2C%20-81.207295%5D%2C%20%5B39.61252%2C%20-74.82581%5D%2C%20%5B34.149574%2C%20-118.69655700000001%5D%2C%20%5B30.314333%2C%20-81.667852%5D%2C%20%5B41.82147%2C%20-87.72892%5D%2C%20%5B36.919393%2C%20-121.718756%5D%2C%20%5B45.064409999999995%2C%20-93.22256%5D%2C%20%5B34.246541%2C%20-118.424516%5D%2C%20%5B27.996129999999997%2C%20-82.38486999999999%5D%2C%20%5B25.956095%2C%20-80.203224%5D%2C%20%5B39.132321000000005%2C%20-75.528584%5D%2C%20%5B34.15664%2C%20-118.26026%5D%2C%20%5B43.135003000000005%2C%20-77.64534499999999%5D%2C%20%5B34.825415%2C%20-82.30930500000001%5D%2C%20%5B38.032509999999995%2C%20-78.86029%5D%2C%20%5B36.573524%2C%20-119.296148%5D%2C%20%5B40.381751%2C%20-122.282829%5D%2C%20%5B43.382831%2C%20-124.09468500000001%5D%2C%20%5B26.09378%2C%20-80.16883%5D%2C%20%5B28.182029999999997%2C%20-81.74365999999999%5D%2C%20%5B39.627629999999996%2C%20-106.06916000000001%5D%2C%20%5B36.163456%2C%20-115.24399299999999%5D%2C%20%5B42.97402%2C%20-73.97645%5D%2C%20%5B44.964009999999995%2C%20-93.23701%5D%2C%20%5B42.533482%2C%20-83.11588%5D%2C%20%5B42.7259%2C%20-84.56614%5D%2C%20%5B34.953316%2C%20-80.85073299999999%5D%2C%20%5B32.767238%2C%20-117.14692600000001%5D%2C%20%5B44.10256%2C%20-124.12047%5D%2C%20%5B39.178354999999996%2C%20-120.854047%5D%2C%20%5B30.620009999999997%2C%20-86.96385%5D%2C%20%5B38.753820000000005%2C%20-90.33921%5D%2C%20%5B34.078544%2C%20-117.27878600000001%5D%2C%20%5B39.48602%2C%20-77.24059%5D%2C%20%5B31.420109999999998%2C%20-83.50662%5D%2C%20%5B38.449701%2C%20-120.89824399999999%5D%2C%20%5B25.89515%2C%20-80.20965%5D%2C%20%5B36.433758000000005%2C%20-120.392169%5D%2C%20%5B35.140240000000006%2C%20-82.10693%5D%2C%20%5B30.53313%2C%20-87.27372%5D%2C%20%5B27.099220000000003%2C%20-82.38425%5D%2C%20%5B40.77513%2C%20-73.66761%5D%2C%20%5B38.48158%2C%20-121.371953%5D%2C%20%5B40.80842%2C%20-73.94493%5D%2C%20%5B44.9522%2C%20-93.069767%5D%2C%20%5B45.022079999999995%2C%20-93.4931%5D%2C%20%5B40.32933%2C%20-111.73706999999999%5D%2C%20%5B39.936536%2C%20-76.665065%5D%2C%20%5B45.122212%2C%20-93.48229%5D%2C%20%5B43.016892%2C%20-78.25680600000001%5D%2C%20%5B28.026840000000004%2C%20-82.19279%5D%2C%20%5B34.345134%2C%20-117.453128%5D%2C%20%5B42.47603%2C%20-83.11779%5D%2C%20%5B44.757145%2C%20-122.309901%5D%2C%20%5B34.072767%2C%20-118.05465900000002%5D%2C%20%5B26.650579999999998%2C%20-80.06871%5D%2C%20%5B38.189859999999996%2C%20-85.76487%5D%2C%20%5B40.689333000000005%2C%20-111.98149199999999%5D%2C%20%5B25.90857%2C%20-80.175234%5D%2C%20%5B40.10242%2C%20-75.1383%5D%2C%20%5B26.715359999999997%2C%20-80.08528000000001%5D%2C%20%5B40.604134%2C%20-74.0691%5D%2C%20%5B28.231857%2C%20-82.296968%5D%2C%20%5B33.888335999999995%2C%20-118.19636399999999%5D%2C%20%5B39.910396999999996%2C%20-74.94089100000001%5D%2C%20%5B32.83718%2C%20-97.04145%5D%2C%20%5B28.258654999999997%2C%20-80.726835%5D%2C%20%5B34.25315%2C%20-118.43111%5D%2C%20%5B35.39053%2C%20-119.07886200000002%5D%2C%20%5B36.25093%2C%20-86.64574%5D%2C%20%5B33.9309%2C%20-118.30899%5D%2C%20%5B44.76569%2C%20-122.52553999999999%5D%2C%20%5B45.422453999999995%2C%20-122.580906%5D%2C%20%5B36.115998%2C%20-86.70445500000001%5D%2C%20%5B28.506034999999997%2C%20-81.330964%5D%2C%20%5B36.15361%2C%20-86.84664000000001%5D%2C%20%5B32.881189%2C%20-96.692358%5D%2C%20%5B34.068869%2C%20-117.839455%5D%2C%20%5B40.79699%2C%20-73.47739%5D%2C%20%5B45.282443%2C%20-93.003028%5D%2C%20%5B42.397259999999996%2C%20-83.43128%5D%2C%20%5B35.144563%2C%20-85.27509%5D%2C%20%5B33.58017%2C%20-117.6716%5D%2C%20%5B34.732892%2C%20-92.262271%5D%2C%20%5B31.76513%2C%20-106.31889%5D%2C%20%5B45.26194%2C%20-92.94848%5D%2C%20%5B45.250704%2C%20-93.02084%5D%2C%20%5B39.372640000000004%2C%20-74.47978%5D%2C%20%5B30.395020000000002%2C%20-97.989841%5D%2C%20%5B42.4287%2C%20-87.87653%5D%2C%20%5B36.982966999999995%2C%20-121.96023799999999%5D%2C%20%5B42.38245%2C%20-88.00419000000001%5D%2C%20%5B37.60877%2C%20-122.06828%5D%2C%20%5B40.420590000000004%2C%20-74.21003%5D%2C%20%5B41.798328000000005%2C%20-87.631462%5D%2C%20%5B39.84763%2C%20-84.29225%5D%2C%20%5B34.717620000000004%2C%20-114.4812%5D%2C%20%5B38.827717%2C%20-77.455298%5D%2C%20%5B39.959457%2C%20-76.76950699999999%5D%2C%20%5B44.98587%2C%20-93.28851%5D%2C%20%5B26.548143%2C%20-81.871658%5D%2C%20%5B40.786570000000005%2C%20-73.92938000000001%5D%2C%20%5B47.56149%2C%20-122.67488%5D%2C%20%5B25.92531%2C%20-80.28098%5D%2C%20%5B45.77427%2C%20-123.32623999999998%5D%2C%20%5B38.153282%2C%20-77.50652%5D%2C%20%5B39.68631%2C%20-86.14882%5D%2C%20%5B38.893221000000004%2C%20-94.26062399999999%5D%2C%20%5B40.56192%2C%20-111.97708%5D%2C%20%5B34.153808000000005%2C%20-118.28796100000001%5D%2C%20%5B37.711079999999995%2C%20-121.71938%5D%2C%20%5B35.261809%2C%20-80.837048%5D%2C%20%5B32.830496999999994%2C%20-117.141815%5D%2C%20%5B37.771428%2C%20-122.423171%5D%2C%20%5B30.191740000000003%2C%20-81.72636%5D%2C%20%5B25.97063%2C%20-80.30168%5D%2C%20%5B30.22232%2C%20-81.51424%5D%2C%20%5B42.093587%2C%20-87.762718%5D%2C%20%5B44.97077%2C%20-122.9903%5D%2C%20%5B41.37663%2C%20-81.5132%5D%2C%20%5B38.00396%2C%20-122.04195%5D%2C%20%5B40.474645%2C%20-74.40955799999999%5D%2C%20%5B43.83521%2C%20-70.12906%5D%2C%20%5B26.324338%2C%20-80.116433%5D%2C%20%5B34.059870000000004%2C%20-118.25187%5D%2C%20%5B39.389787%2C%20-76.722043%5D%2C%20%5B38.62853%2C%20-121.22164%5D%2C%20%5B44.24798%2C%20-121.48398%5D%2C%20%5B32.9242%2C%20-96.75759000000001%5D%2C%20%5B33.713691%2C%20-117.786901%5D%2C%20%5B38.924614%2C%20-76.85386%5D%2C%20%5B33.687740000000005%2C%20-117.9077%5D%2C%20%5B34.318875%2C%20-112.12332099999999%5D%2C%20%5B44.951945%2C%20-93.172506%5D%2C%20%5B25.685426%2C%20-80.41648599999999%5D%2C%20%5B37.777819%2C%20-122.167146%5D%2C%20%5B40.46202%2C%20-74.45784%5D%2C%20%5B34.028240000000004%2C%20-118.22993000000001%5D%2C%20%5B29.733713%2C%20-95.48983%5D%2C%20%5B40.6665%2C%20-73.80847%5D%2C%20%5B26.053767%2C%20-80.16201099999999%5D%2C%20%5B34.13447%2C%20-80.96558%5D%2C%20%5B33.855579999999996%2C%20-118.28233999999999%5D%2C%20%5B38.882431%2C%20-121.60804499999999%5D%2C%20%5B37.88263%2C%20-122.05207%5D%2C%20%5B46.94331%2C%20-122.9404%5D%2C%20%5B35.274812%2C%20-80.766729%5D%2C%20%5B44.52104%2C%20-93.01318%5D%2C%20%5B36.96022%2C%20-110.19915%5D%2C%20%5B33.85608%2C%20-118.28464%5D%2C%20%5B34.034904%2C%20-118.367525%5D%2C%20%5B37.792981%2C%20-121.19025800000001%5D%2C%20%5B34.25315%2C%20-118.43111%5D%2C%20%5B36.15109%2C%20-86.78433100000001%5D%2C%20%5B41.15817%2C%20-73.77549%5D%2C%20%5B36.774383%2C%20-120.72151699999999%5D%2C%20%5B27.789174%2C%20-82.679393%5D%2C%20%5B36.8336%2C%20-76.13217%5D%2C%20%5B32.79187%2C%20-96.7293%5D%2C%20%5B34.143328000000004%2C%20-118.278084%5D%2C%20%5B42.45068%2C%20-83.34263%5D%2C%20%5B41.87451%2C%20-87.70675%5D%2C%20%5B44.95175%2C%20-93.16422%5D%2C%20%5B34.036535%2C%20-118.156875%5D%2C%20%5B37.49718%2C%20-77.54698%5D%2C%20%5B37.455816999999996%2C%20-77.48590899999999%5D%2C%20%5B35.273247%2C%20-80.832155%5D%2C%20%5B41.774479%2C%20-87.802541%5D%2C%20%5B37.219968%2C%20-80.257764%5D%2C%20%5B29.110645%2C%20-81.031239%5D%2C%20%5B32.276726000000004%2C%20-90.189095%5D%2C%20%5B28.18205%2C%20-81.74427%5D%2C%20%5B39.62982%2C%20-104.904917%5D%2C%20%5B37.30118%2C%20-121.815%5D%2C%20%5B35.8077%2C%20-78.72383%5D%2C%20%5B43.725038%2C%20-123.2052%5D%2C%20%5B38.891740999999996%2C%20-77.16609100000001%5D%2C%20%5B45.51127%2C%20-94.27963000000001%5D%2C%20%5B33.884163%2C%20-118.285524%5D%2C%20%5B34.27519%2C%20-118.5362%5D%2C%20%5B37.686924%2C%20-121.917322%5D%2C%20%5B45.00918%2C%20-122.976072%5D%2C%20%5B42.0673%2C%20-72.10882%5D%2C%20%5B44.86246%2C%20-93.12111%5D%2C%20%5B35.408518%2C%20-80.854456%5D%2C%20%5B27.388278000000003%2C%20-82.45979100000001%5D%2C%20%5B32.829539000000004%2C%20-83.65524%5D%2C%20%5B39.218396000000006%2C%20-122.187126%5D%2C%20%5B35.17897%2C%20-80.89097%5D%2C%20%5B37.14435%2C%20-121.98468000000001%5D%2C%20%5B33.94583%2C%20-118.09411999999999%5D%2C%20%5B45.50073%2C%20-122.67674%5D%2C%20%5B33.9136%2C%20-84.20464%5D%2C%20%5B41.526%2C%20-81.65974%5D%2C%20%5B43.632718%2C%20-116.35426499999998%5D%2C%20%5B33.64888%2C%20-112.11483%5D%2C%20%5B36.47795%2C%20-121.72866200000001%5D%2C%20%5B25.589032999999997%2C%20-80.35947900000001%5D%2C%20%5B30.420465000000004%2C%20-91.151552%5D%2C%20%5B33.362973%2C%20-117.24926200000002%5D%2C%20%5B41.516541%2C%20-87.74235%5D%2C%20%5B43.253029999999995%2C%20-77.69645%5D%2C%20%5B33.96745%2C%20-118.24768999999999%5D%2C%20%5B44.43099%2C%20-121.88083999999999%5D%2C%20%5B34.035875%2C%20-118.349488%5D%2C%20%5B32.74732%2C%20-96.75073%5D%2C%20%5B34.505108%2C%20-82.648939%5D%2C%20%5B37.318936%2C%20-121.992176%5D%2C%20%5B34.06573%2C%20-117.99422%5D%2C%20%5B37.638090000000005%2C%20-121.28958999999999%5D%2C%20%5B34.354764%2C%20-117.437871%5D%2C%20%5B34.037216%2C%20-118.307332%5D%2C%20%5B32.79336%2C%20-97.05705999999999%5D%2C%20%5B42.015859000000006%2C%20-87.756036%5D%2C%20%5B39.016005%2C%20-77.019509%5D%2C%20%5B33.99902%2C%20-117.37092%5D%2C%20%5B44.969640000000005%2C%20-93.30479%5D%2C%20%5B41.13195%2C%20-85.19827%5D%2C%20%5B34.263634%2C%20-119.094222%5D%2C%20%5B45.31165%2C%20-93.0033%5D%2C%20%5B42.295482%2C%20-87.956068%5D%2C%20%5B44.9822%2C%20-122.72475%5D%2C%20%5B33.21476%2C%20-111.9165%5D%2C%20%5B42.07887%2C%20-71.29293%5D%2C%20%5B33.71503%2C%20-84.24319%5D%2C%20%5B40.04293%2C%20-82.99701999999999%5D%2C%20%5B41.84995%2C%20-87.95788%5D%2C%20%5B36.859592%2C%20-121.60401599999999%5D%2C%20%5B33.80317%2C%20-118.07871999999999%5D%2C%20%5B33.57206%2C%20-81.6936%5D%2C%20%5B42.70224%2C%20-71.20997%5D%2C%20%5B39.976259999999996%2C%20-83.26494%5D%2C%20%5B37.93996%2C%20-122.51601000000001%5D%2C%20%5B37.991524%2C%20-120.401381%5D%2C%20%5B25.684325%2C%20-80.41642900000001%5D%2C%20%5B45.303021%2C%20-122.76908999999999%5D%2C%20%5B32.920590000000004%2C%20-96.75061%5D%2C%20%5B38.740097%2C%20-120.69682%5D%2C%20%5B34.239167%2C%20-119.180833%5D%2C%20%5B25.97224%2C%20-80.246934%5D%2C%20%5B28.839668%2C%20-82.050646%5D%2C%20%5B37.551904%2C%20-122.51213999999999%5D%2C%20%5B44.98444%2C%20-93.2881%5D%2C%20%5B37.716172%2C%20-97.397194%5D%2C%20%5B33.559595%2C%20-117.672082%5D%2C%20%5B34.072038%2C%20-117.90750200000001%5D%2C%20%5B34.075432%2C%20-117.544992%5D%2C%20%5B32.507258%2C%20-93.745266%5D%2C%20%5B36.482484%2C%20-79.38069499999999%5D%2C%20%5B39.8678%2C%20-84.92442%5D%2C%20%5B33.7745%2C%20-118.06948%5D%2C%20%5B37.57223%2C%20-121.88857%5D%2C%20%5B33.856062%2C%20-118.01125900000001%5D%2C%20%5B40.720890000000004%2C%20-74.23248000000001%5D%2C%20%5B27.99584%2C%20-82.34877%5D%2C%20%5B38.401345%2C%20-82.481789%5D%2C%20%5B39.820038000000004%2C%20-85.855662%5D%2C%20%5B26.939069%2C%20-80.155626%5D%2C%20%5B34.080961%2C%20-117.81705900000001%5D%2C%20%5B48.240109999999994%2C%20-122.38463%5D%2C%20%5B25.768256%2C%20-80.33629599999999%5D%2C%20%5B35.36564%2C%20-80.78485%5D%2C%20%5B36.17517%2C%20-86.76698%5D%2C%20%5B28.539240000000003%2C%20-81.28568%5D%2C%20%5B40.59145%2C%20-76.41273000000001%5D%2C%20%5B30.459945%2C%20-84.228095%5D%2C%20%5B41.70068%2C%20-71.47456%5D%2C%20%5B39.679176%2C%20-105.90375700000001%5D%2C%20%5B34.016994%2C%20-118.14111499999999%5D%2C%20%5B45.69664%2C%20-121.35186000000002%5D%2C%20%5B40.781024%2C%20-73.59974%5D%2C%20%5B30.038359999999997%2C%20-89.90545%5D%2C%20%5B34.852847%2C%20-119.158922%5D%2C%20%5B37.75795%2C%20-121.53171%5D%2C%20%5B34.132517%2C%20-80.84393299999999%5D%2C%20%5B45.574647%2C%20-122.545934%5D%2C%20%5B44.94362%2C%20-93.34808000000001%5D%2C%20%5B39.783429999999996%2C%20-105.08147%5D%2C%20%5B33.926790000000004%2C%20-118.17798%5D%2C%20%5B34.000593%2C%20-118.174985%5D%2C%20%5B41.926958%2C%20-91.67536899999999%5D%2C%20%5B44.4564%2C%20-91.09046%5D%2C%20%5B30.45403%2C%20-91.08715%5D%2C%20%5B35.159967%2C%20-113.68591599999999%5D%2C%20%5B38.381794%2C%20-81.600454%5D%2C%20%5B38.91017%2C%20-94.69538%5D%2C%20%5B38.387162%2C%20-122.721382%5D%2C%20%5B45.50868%2C%20-122.736675%5D%2C%20%5B25.86639%2C%20-80.20825%5D%2C%20%5B27.601371999999998%2C%20-82.513113%5D%2C%20%5B41.045876%2C%20-73.767668%5D%2C%20%5B37.36371%2C%20-121.8982%5D%2C%20%5B41.82127%2C%20-71.47388000000001%5D%2C%20%5B40.7014%2C%20-73.98862%5D%2C%20%5B43.013366999999995%2C%20-76.138598%5D%2C%20%5B40.731989%2C%20-74.167372%5D%2C%20%5B33.932809000000006%2C%20-118.299072%5D%2C%20%5B33.97992%2C%20-84.53735%5D%2C%20%5B35.561%2C%20-82.50133000000001%5D%2C%20%5B34.91257%2C%20-116.79892%5D%2C%20%5B38.745684999999995%2C%20-121.170603%5D%2C%20%5B45.059765000000006%2C%20-93.147075%5D%2C%20%5B47.602752%2C%20-122.32614199999999%5D%2C%20%5B33.928019%2C%20-118.29159399999999%5D%2C%20%5B35.11725%2C%20-80.95756%5D%2C%20%5B37.554109999999994%2C%20-77.45615%5D%2C%20%5B38.75411%2C%20-90.45436%5D%2C%20%5B41.22376%2C%20-96.08126999999999%5D%2C%20%5B34.662407%2C%20-118.758427%5D%2C%20%5B30.67%2C%20-88.15034%5D%2C%20%5B40.75343%2C%20-112.17306%5D%2C%20%5B37.32608%2C%20-121.88303%5D%2C%20%5B33.484778000000006%2C%20-112.26401100000001%5D%2C%20%5B33.876804%2C%20-118.108026%5D%2C%20%5B38.59385%2C%20-121.50407%5D%2C%20%5B28.449924%2C%20-81.479136%5D%2C%20%5B38.98895%2C%20-76.88351999999999%5D%2C%20%5B42.040048%2C%20-122.597974%5D%2C%20%5B43.264394%2C%20-83.73566%5D%2C%20%5B36.8707%2C%20-76.28246%5D%2C%20%5B33.651594%2C%20-117.76115300000001%5D%2C%20%5B44.41357%2C%20-119.07790800000001%5D%2C%20%5B25.745053%2C%20-80.392146%5D%2C%20%5B33.671159%2C%20-117.82821399999999%5D%2C%20%5B34.129971000000005%2C%20-80.96293%5D%2C%20%5B44.95965%2C%20-93.20469%5D%2C%20%5B38.614067%2C%20-77.299986%5D%2C%20%5B33.750634999999996%2C%20-117.1892%5D%2C%20%5B28.554136%2C%20-81.371023%5D%2C%20%5B41.25162%2C%20-73.07525%5D%2C%20%5B33.81628%2C%20-84.36317%5D%2C%20%5B44.773803%2C%20-93.30917%5D%2C%20%5B33.687422999999995%2C%20-117.87191000000001%5D%2C%20%5B35.17573%2C%20-97.49425%5D%2C%20%5B44.41471%2C%20-69.70493%5D%2C%20%5B35.700390000000006%2C%20-78.58079000000001%5D%2C%20%5B42.38597%2C%20-87.98561%5D%2C%20%5B40.784515999999996%2C%20-77.043449%5D%2C%20%5B32.809172%2C%20-117.21798899999999%5D%2C%20%5B37.65338%2C%20-77.45091%5D%2C%20%5B30.267734%2C%20-97.734335%5D%2C%20%5B25.566539000000002%2C%20-80.364183%5D%2C%20%5B30.486707%2C%20-87.306735%5D%2C%20%5B38.386702%2C%20-122.815301%5D%2C%20%5B39.89995%2C%20-86.05017%5D%2C%20%5B47.155409999999996%2C%20-122.43171000000001%5D%2C%20%5B45.582029999999996%2C%20-122.973826%5D%2C%20%5B38.65528%2C%20-122.59596599999999%5D%2C%20%5B34.047333%2C%20-81.102824%5D%2C%20%5B38.83902%2C%20-76.91153%5D%2C%20%5B40.749488%2C%20-74.21230899999999%5D%2C%20%5B40.80966%2C%20-73.90284%5D%2C%20%5B40.5847%2C%20-73.96039%5D%2C%20%5B42.61965%2C%20-71.28655%5D%2C%20%5B32.79038%2C%20-117.203321%5D%2C%20%5B41.68309%2C%20-87.60172%5D%2C%20%5B37.93285%2C%20-121.23382%5D%2C%20%5B35.87133%2C%20-97.58573%5D%2C%20%5B32.87535%2C%20-96.7701%5D%2C%20%5B45.015467%2C%20-92.99228000000001%5D%2C%20%5B44.92512%2C%20-93.27489%5D%2C%20%5B41.649356%2C%20-93.69761%5D%2C%20%5B35.307159999999996%2C%20-80.87103%5D%2C%20%5B25.96375%2C%20-80.147421%5D%2C%20%5B38.11358%2C%20-121.25832%5D%2C%20%5B40.01105%2C%20-74.84996%5D%2C%20%5B45.530795%2C%20-122.665323%5D%2C%20%5B40.128325%2C%20-74.694982%5D%2C%20%5B30.32088%2C%20-81.71656999999999%5D%2C%20%5B30.389597%2C%20-91.19857900000001%5D%2C%20%5B38.60435%2C%20-121.27598%5D%2C%20%5B37.70905%2C%20-121.08089199999999%5D%2C%20%5B34.437046%2C%20-119.857092%5D%2C%20%5B41.10921%2C%20-81.6049%5D%2C%20%5B33.869046999999995%2C%20-117.75333%5D%2C%20%5B40.098859999999995%2C%20-75.2981%5D%2C%20%5B33.228955%2C%20-87.576576%5D%2C%20%5B29.613444%2C%20-95.441928%5D%2C%20%5B39.76166%2C%20-84.23151999999999%5D%2C%20%5B26.723695000000003%2C%20-80.09163000000001%5D%2C%20%5B34.072497999999996%2C%20-117.940624%5D%2C%20%5B40.343221%2C%20-122.28171100000002%5D%2C%20%5B34.083037%2C%20-118.22794099999999%5D%2C%20%5B38.577225%2C%20-90.445809%5D%2C%20%5B41.95962%2C%20-87.72778000000001%5D%2C%20%5B40.18958%2C%20-74.72008000000001%5D%2C%20%5B43.28425%2C%20-77.86688000000001%5D%2C%20%5B32.673770000000005%2C%20-117.08283999999999%5D%2C%20%5B34.081496%2C%20-118.294299%5D%2C%20%5B34.06695%2C%20-117.43941000000001%5D%2C%20%5B41.071946999999994%2C%20-73.47735899999999%5D%2C%20%5B42.98072%2C%20-85.67724%5D%2C%20%5B43.046203999999996%2C%20-83.732668%5D%2C%20%5B41.734809999999996%2C%20-72.66427%5D%2C%20%5B41.63538%2C%20-88.16105999999999%5D%2C%20%5B25.700708%2C%20-80.378998%5D%2C%20%5B37.006813%2C%20-121.55840900000001%5D%2C%20%5B40.703959999999995%2C%20-111.93896000000001%5D%2C%20%5B40.736340000000006%2C%20-73.85621%5D%2C%20%5B34.008829999999996%2C%20-118.15857%5D%2C%20%5B26.06534%2C%20-80.2155%5D%2C%20%5B25.734897%2C%20-80.30295%5D%2C%20%5B38.95616%2C%20-94.52772%5D%2C%20%5B40.455003999999995%2C%20-77.819539%5D%2C%20%5B37.764185999999995%2C%20-77.150603%5D%2C%20%5B37.27191%2C%20-120.434573%5D%2C%20%5B37.630276%2C%20-122.11505%5D%2C%20%5B34.78645%2C%20-82.44626%5D%2C%20%5B26.182470000000002%2C%20-80.15279%5D%2C%20%5B41.66644%2C%20-71.50176%5D%2C%20%5B37.508967999999996%2C%20-121.93665%5D%2C%20%5B33.967465999999995%2C%20-118.233171%5D%2C%20%5B39.3109%2C%20-83.90824%5D%2C%20%5B33.990967%2C%20-117.358747%5D%2C%20%5B25.967942999999998%2C%20-80.19309200000001%5D%2C%20%5B40.506346%2C%20-111.413499%5D%2C%20%5B34.10576%2C%20-118.32733%5D%2C%20%5B45.52868%2C%20-122.66533000000001%5D%2C%20%5B45.705543%2C%20-121.585704%5D%2C%20%5B28.115159999999996%2C%20-82.37164%5D%2C%20%5B32.837604999999996%2C%20-116.657453%5D%2C%20%5B37.364135%2C%20-122.124481%5D%2C%20%5B36.08527%2C%20-79.65984%5D%2C%20%5B25.720163%2C%20-80.38369%5D%2C%20%5B44.241112%2C%20-84.219875%5D%2C%20%5B38.662760999999996%2C%20-120.93768100000001%5D%2C%20%5B28.59504%2C%20-81.38455%5D%2C%20%5B38.96498%2C%20-94.52135%5D%2C%20%5B35.33396%2C%20-80.72035%5D%2C%20%5B32.431865%2C%20-93.711737%5D%2C%20%5B38.372582%2C%20-120.50759199999999%5D%2C%20%5B42.53772%2C%20-83.11634000000001%5D%2C%20%5B39.81264%2C%20-75.12451999999999%5D%2C%20%5B34.395471%2C%20-118.46745800000001%5D%2C%20%5B34.149131%2C%20-118.46915600000001%5D%2C%20%5B34.219332%2C%20-117.39815300000001%5D%2C%20%5B38.365359999999995%2C%20-121.5199%5D%2C%20%5B40.715198%2C%20-73.825693%5D%2C%20%5B33.7372%2C%20-84.23143%5D%2C%20%5B43.238336%2C%20-77.647287%5D%2C%20%5B33.904121999999994%2C%20-86.621542%5D%2C%20%5B35.04423%2C%20-89.80773%5D%2C%20%5B34.280909%2C%20-118.441842%5D%2C%20%5B48.083864%2C%20-123.19985700000001%5D%2C%20%5B43.692240000000005%2C%20-123.19975%5D%2C%20%5B37.904737%2C%20-121.222761%5D%2C%20%5B34.068932000000004%2C%20-117.36855200000001%5D%2C%20%5B41.34845%2C%20-82.755465%5D%2C%20%5B33.69808%2C%20-84.42975%5D%2C%20%5B42.52753%2C%20-82.90886%5D%2C%20%5B42.35395%2C%20-122.87031999999999%5D%2C%20%5B37.64877%2C%20-121.01988899999999%5D%2C%20%5B38.96203%2C%20-77.18672%5D%2C%20%5B34.0031%2C%20-118.06523%5D%2C%20%5B26.357647999999998%2C%20-80.119334%5D%2C%20%5B33.092869%2C%20-87.672797%5D%2C%20%5B39.062129999999996%2C%20-94.49686%5D%2C%20%5B37.807629999999996%2C%20-122.30403999999999%5D%2C%20%5B26.671618%2C%20-80.070065%5D%2C%20%5B33.54916%2C%20-84.26865%5D%2C%20%5B41.66825%2C%20-72.91553%5D%2C%20%5B32.074495%2C%20-88.876813%5D%2C%20%5B42.21998%2C%20-71.03589000000001%5D%2C%20%5B35.7808%2C%20-78.56921%5D%2C%20%5B40.772098%2C%20-74.061638%5D%2C%20%5B32.806146999999996%2C%20-96.77625400000001%5D%2C%20%5B38.482396%2C%20-121.043673%5D%2C%20%5B34.102925%2C%20-118.19494099999999%5D%2C%20%5B33.903359%2C%20-117.47620900000001%5D%2C%20%5B34.0378%2C%20-118.2798%5D%2C%20%5B39.132539%2C%20-94.586986%5D%2C%20%5B27.347859999999997%2C%20-82.162212%5D%2C%20%5B44.526773%2C%20-118.615541%5D%2C%20%5B39.71119%2C%20-105.01454%5D%2C%20%5B26.16219%2C%20-80.16230999999999%5D%2C%20%5B35.19523%2C%20-80.83685%5D%2C%20%5B42.30364%2C%20-121.93552%5D%2C%20%5B39.62829%2C%20-84.22606%5D%2C%20%5B43.06449%2C%20-77.40719%5D%2C%20%5B32.779685%2C%20-117.097007%5D%2C%20%5B33.48425%2C%20-112.11318999999999%5D%2C%20%5B42.37978%2C%20-83.09043%5D%2C%20%5B33.876925%2C%20-118.34499299999999%5D%2C%20%5B40.743378%2C%20-74.06298100000001%5D%2C%20%5B34.031614000000005%2C%20-118.27446100000002%5D%2C%20%5B45.14264%2C%20-93.27908000000001%5D%2C%20%5B39.8282%2C%20-75.10033%5D%2C%20%5B34.362460999999996%2C%20-118.55502800000001%5D%2C%20%5B42.864671%2C%20-73.775779%5D%2C%20%5B37.606784000000005%2C%20-77.46781999999999%5D%2C%20%5B42.571581%2C%20-123.372441%5D%2C%20%5B33.22337%2C%20-111.92356000000001%5D%2C%20%5B32.77913%2C%20-117.100422%5D%2C%20%5B40.358086%2C%20-78.670036%5D%2C%20%5B33.800373%2C%20-118.083476%5D%2C%20%5B34.16511%2C%20-118.48886%5D%2C%20%5B34.1524%2C%20-118.098669%5D%2C%20%5B44.952704%2C%20-93.08760799999999%5D%2C%20%5B42.25946%2C%20-73.49769%5D%2C%20%5B45.44115%2C%20-92.71345%5D%2C%20%5B30.474494%2C%20-87.222502%5D%2C%20%5B32.66431%2C%20-96.72909%5D%2C%20%5B33.66868%2C%20-112.085149%5D%2C%20%5B31.79055%2C%20-106.3022%5D%2C%20%5B34.034667999999996%2C%20-118.343728%5D%2C%20%5B41.84594%2C%20-87.99199%5D%2C%20%5B38.566340000000004%2C%20-121.50385%5D%2C%20%5B34.303383000000004%2C%20-118.479548%5D%2C%20%5B35.13455%2C%20-80.93939%5D%2C%20%5B34.084579999999995%2C%20-117.3005%5D%2C%20%5B40.13386%2C%20-80.00666%5D%2C%20%5B33.854040000000005%2C%20-117.89352%5D%2C%20%5B32.3595%2C%20-109.67443%5D%2C%20%5B38.619735999999996%2C%20-76.898993%5D%2C%20%5B34.04784%2C%20-118.26657%5D%2C%20%5B43.20912%2C%20-123.35703999999998%5D%2C%20%5B25.732805%2C%20-80.350673%5D%2C%20%5B25.640555%2C%20-80.385643%5D%2C%20%5B32.843703000000005%2C%20-117.13128400000001%5D%2C%20%5B34.171261%2C%20-118.515615%5D%2C%20%5B39.147776%2C%20-86.470814%5D%2C%20%5B32.664970000000004%2C%20-117.07964%5D%2C%20%5B34.165009999999995%2C%20-118.47488999999999%5D%2C%20%5B41.62489%2C%20-87.040761%5D%2C%20%5B33.941607%2C%20-117.272704%5D%2C%20%5B34.06046%2C%20-118.21515%5D%2C%20%5B38.021811%2C%20-121.96076699999999%5D%2C%20%5B33.6854%2C%20-117.89668%5D%2C%20%5B40.0374%2C%20-76.40742%5D%2C%20%5B45.591495%2C%20-122.666999%5D%2C%20%5B34.188455%2C%20-117.35783400000001%5D%2C%20%5B38.664318%2C%20-121.24914%5D%2C%20%5B33.928026%2C%20-118.237023%5D%2C%20%5B33.70505%2C%20-117.9539%5D%2C%20%5B36.30052%2C%20-86.71106%5D%2C%20%5B41.98353%2C%20-87.81836%5D%2C%20%5B36.082671000000005%2C%20-86.727249%5D%2C%20%5B38.849928999999996%2C%20-77.076551%5D%2C%20%5B37.37319%2C%20-89.15564%5D%2C%20%5B33.79179%2C%20-117.83107%5D%2C%20%5B27.494171%2C%20-82.490285%5D%2C%20%5B36.636355%2C%20-120.62016100000001%5D%2C%20%5B45.168082%2C%20-109.273903%5D%2C%20%5B38.971778%2C%20-77.179201%5D%2C%20%5B32.295955%2C%20-95.301491%5D%2C%20%5B38.97618%2C%20-94.71387%5D%2C%20%5B34.731442%2C%20-120.23588799999999%5D%2C%20%5B39.58413%2C%20-104.8789%5D%2C%20%5B32.763459999999995%2C%20-96.66541%5D%2C%20%5B45.07634%2C%20-93.35568%5D%2C%20%5B37.90503%2C%20-121.1473%5D%2C%20%5B35.813136%2C%20-117.87355%5D%2C%20%5B33.854314%2C%20-117.919947%5D%2C%20%5B42.91254%2C%20-85.58341999999999%5D%2C%20%5B42.861671%2C%20-71.50059399999999%5D%2C%20%5B41.87063%2C%20-87.87629%5D%2C%20%5B41.93228%2C%20-87.6781%5D%2C%20%5B38.443134%2C%20-122.72193100000001%5D%2C%20%5B40.769366%2C%20-111.88826%5D%2C%20%5B36.790549%2C%20-119.748512%5D%2C%20%5B47.61121%2C%20-122.33118%5D%2C%20%5B47.63904%2C%20-122.32287%5D%2C%20%5B29.739145%2C%20-95.418826%5D%2C%20%5B40.097946%2C%20-75.197792%5D%2C%20%5B37.32509%2C%20-121.88677%5D%2C%20%5B39.778411%2C%20-86.141286%5D%2C%20%5B27.298740000000002%2C%20-82.44809000000001%5D%2C%20%5B25.8123%2C%20-80.24415%5D%2C%20%5B45.243%2C%20-92.98395%5D%2C%20%5B26.058378%2C%20-80.16255799999999%5D%2C%20%5B38.855756%2C%20-78.53837299999999%5D%2C%20%5B25.898572%2C%20-80.292084%5D%2C%20%5B38.863252%2C%20-122.718681%5D%2C%20%5B39.21032%2C%20-84.46306%5D%2C%20%5B44.502767%2C%20-119.60673600000001%5D%2C%20%5B38.105058%2C%20-81.385711%5D%2C%20%5B37.861061%2C%20-78.26365%5D%2C%20%5B33.119040000000005%2C%20-117.32005%5D%2C%20%5B40.060629999999996%2C%20-75.32424%5D%2C%20%5B32.564840000000004%2C%20-96.82258%5D%2C%20%5B32.9763%2C%20-117.25161000000001%5D%2C%20%5B44.15735%2C%20-121.26097%5D%2C%20%5B34.278105%2C%20-80.885328%5D%2C%20%5B45.36459%2C%20-122.75952%5D%2C%20%5B33.189969%2C%20-117.227079%5D%2C%20%5B33.981573%2C%20-80.96409%5D%2C%20%5B34.134781%2C%20-117.656198%5D%2C%20%5B42.30615%2C%20-83.74365999999999%5D%2C%20%5B40.59292%2C%20-111.90218%5D%2C%20%5B34.046696999999995%2C%20-118.577041%5D%2C%20%5B40.746956%2C%20-74.061782%5D%2C%20%5B35.22128%2C%20-80.84026999999999%5D%2C%20%5B35.76789%2C%20-78.57531999999999%5D%2C%20%5B32.672961%2C%20-117.07631299999998%5D%2C%20%5B33.77332%2C%20-118.03903999999999%5D%2C%20%5B32.7174%2C%20-96.91335%5D%2C%20%5B40.275529999999996%2C%20-76.81744%5D%2C%20%5B41.80862%2C%20-71.40475%5D%2C%20%5B34.202841%2C%20-118.85486999999999%5D%2C%20%5B35.369721999999996%2C%20-119.0425%5D%2C%20%5B33.660081%2C%20-117.782503%5D%2C%20%5B40.645379999999996%2C%20-111.94572%5D%2C%20%5B33.94896%2C%20-84.23178%5D%2C%20%5B33.91705%2C%20-118.04668000000001%5D%2C%20%5B39.213359999999994%2C%20-84.43871999999999%5D%2C%20%5B39.239226%2C%20-76.837745%5D%2C%20%5B45.7996%2C%20-92.9902%5D%2C%20%5B37.53201%2C%20-122.00653999999999%5D%2C%20%5B29.751890000000003%2C%20-81.34824%5D%2C%20%5B42.55356%2C%20-82.95035%5D%2C%20%5B43.43079%2C%20-83.73801999999999%5D%2C%20%5B43.07759%2C%20-88.05829%5D%2C%20%5B34.031664%2C%20-118.42666200000001%5D%2C%20%5B28.42087%2C%20-82.28831%5D%2C%20%5B44.128314%2C%20-94.18462099999999%5D%2C%20%5B33.676951%2C%20-117.757278%5D%2C%20%5B39.3816%2C%20-77.2655%5D%2C%20%5B33.534737%2C%20-80.900396%5D%2C%20%5B38.50544%2C%20-90.68101%5D%2C%20%5B39.9893%2C%20-85.93041%5D%2C%20%5B43.92233%2C%20-123.01187%5D%2C%20%5B41.537558000000004%2C%20-73.043938%5D%2C%20%5B27.337916999999997%2C%20-82.463773%5D%2C%20%5B33.831590000000006%2C%20-118.29078600000001%5D%2C%20%5B38.044270000000004%2C%20-77.34108%5D%2C%20%5B34.05603%2C%20-117.54661999999999%5D%2C%20%5B34.023595%2C%20-117.75278300000001%5D%2C%20%5B41.313658000000004%2C%20-73.929846%5D%2C%20%5B33.10385%2C%20-97.22258000000001%5D%2C%20%5B35.297315999999995%2C%20-80.51359599999999%5D%2C%20%5B40.657499%2C%20-74.28735%5D%2C%20%5B27.436844%2C%20-82.445881%5D%2C%20%5B43.827391%2C%20-91.621931%5D%2C%20%5B43.5415%2C%20-83.94515%5D%2C%20%5B38.26416%2C%20-109.37706999999999%5D%2C%20%5B37.331737%2C%20-113.28187199999999%5D%2C%20%5B44.982458%2C%20-93.243981%5D%2C%20%5B40.69704%2C%20-74.25743%5D%2C%20%5B28.26045%2C%20-81.43639%5D%2C%20%5B33.181138%2C%20-117.342703%5D%2C%20%5B39.013040999999994%2C%20-122.38395%5D%2C%20%5B39.77636%2C%20-84.23454%5D%2C%20%5B29.998520000000003%2C%20-90.17451%5D%2C%20%5B38.93549%2C%20-94.53097%5D%2C%20%5B33.884163%2C%20-118.285524%5D%2C%20%5B37.3408%2C%20-121.92817%5D%2C%20%5B37.6279%2C%20-77.57431%5D%2C%20%5B34.405843%2C%20-119.54394199999999%5D%2C%20%5B35.707409999999996%2C%20-105.96478%5D%2C%20%5B40.694549%2C%20-111.79638999999999%5D%2C%20%5B37.961490000000005%2C%20-122.50766999999999%5D%2C%20%5B37.540488%2C%20-122.36566%5D%2C%20%5B45.35759%2C%20-122.3589%5D%2C%20%5B39.40435%2C%20-76.57240999999999%5D%2C%20%5B36.0987%2C%20-86.76356%5D%2C%20%5B40.698803000000005%2C%20-73.962265%5D%2C%20%5B47.23464%2C%20-122.42778999999999%5D%2C%20%5B33.872498%2C%20-118.05903500000001%5D%2C%20%5B40.69676%2C%20-111.95815%5D%2C%20%5B41.936734%2C%20-73.883045%5D%2C%20%5B27.593688%2C%20-82.631687%5D%2C%20%5B34.493961999999996%2C%20-118.622252%5D%2C%20%5B33.05247%2C%20-117.28858000000001%5D%2C%20%5B33.219229999999996%2C%20-111.98902%5D%2C%20%5B25.89976%2C%20-80.209688%5D%2C%20%5B34.099008000000005%2C%20-82.533603%5D%2C%20%5B39.8231%2C%20-104.9673%5D%2C%20%5B25.939774%2C%20-80.27740899999999%5D%2C%20%5B37.690737%2C%20-122.069965%5D%2C%20%5B33.87278%2C%20-118.34241999999999%5D%2C%20%5B27.283903999999996%2C%20-82.48985%5D%2C%20%5B40.832351%2C%20-73.931797%5D%2C%20%5B33.825357000000004%2C%20-118.21844899999999%5D%2C%20%5B32.814718%2C%20-96.62819%5D%2C%20%5B34.000240000000005%2C%20-117.3528%5D%2C%20%5B31.377534000000004%2C%20-89.32760400000001%5D%2C%20%5B44.815701000000004%2C%20-93.044729%5D%2C%20%5B30.443501%2C%20-91.00354200000001%5D%2C%20%5B33.450461%2C%20-111.98258%5D%2C%20%5B35.030159999999995%2C%20-85.16964%5D%2C%20%5B40.922878000000004%2C%20-76.905235%5D%2C%20%5B39.1255%2C%20-94.56675%5D%2C%20%5B32.767179999999996%2C%20-117.12888999999998%5D%2C%20%5B36.022705%2C%20-118.91073899999999%5D%2C%20%5B35.058248999999996%2C%20-119.360871%5D%2C%20%5B32.727917%2C%20-97.59061899999999%5D%2C%20%5B38.703759999999996%2C%20-121.35426399999999%5D%2C%20%5B47.754092%2C%20-122.64249%5D%2C%20%5B37.930096999999996%2C%20-122.32401599999999%5D%2C%20%5B37.283953000000004%2C%20-76.66906%5D%2C%20%5B39.08578%2C%20-94.59224%5D%2C%20%5B34.20455%2C%20-118.40535%5D%2C%20%5B34.07176%2C%20-118.09958999999999%5D%2C%20%5B39.94028%2C%20-75.01035%5D%2C%20%5B38.225501%2C%20-122.573851%5D%2C%20%5B33.173336%2C%20-87.41099200000001%5D%2C%20%5B44.976971999999996%2C%20-93.287472%5D%2C%20%5B44.9053%2C%20-93.79511%5D%2C%20%5B40.180639%2C%20-75.13340500000001%5D%2C%20%5B40.72429%2C%20-111.94386000000002%5D%2C%20%5B34.0281%2C%20-117.55066000000001%5D%2C%20%5B40.68716%2C%20-74.27345%5D%2C%20%5B38.90488%2C%20-77.01618%5D%2C%20%5B45.44294%2C%20-122.98518%5D%2C%20%5B39.75707%2C%20-84.20698%5D%2C%20%5B45.51786%2C%20-122.66982%5D%2C%20%5B33.869529%2C%20-117.67176%5D%2C%20%5B42.40505%2C%20-83.13551%5D%2C%20%5B41.01462%2C%20-92.37779%5D%2C%20%5B36.9988%2C%20-108.74963400000001%5D%2C%20%5B40.054608%2C%20-76.266657%5D%2C%20%5B38.95108%2C%20-84.63367%5D%2C%20%5B39.01574%2C%20-77.00075%5D%2C%20%5B25.651111%2C%20-80.338753%5D%2C%20%5B45.73746%2C%20-120.584997%5D%2C%20%5B33.591293%2C%20-112.116798%5D%2C%20%5B38.339628000000005%2C%20-85.810448%5D%2C%20%5B26.162513%2C%20-80.16214000000001%5D%2C%20%5B39.687819%2C%20-104.968928%5D%2C%20%5B42.340379999999996%2C%20-87.97839%5D%2C%20%5B37.993455%2C%20-122.302034%5D%2C%20%5B28.451390000000004%2C%20-81.2997%5D%2C%20%5B37.107698%2C%20-121.635373%5D%2C%20%5B38.3703%2C%20-122.71309%5D%2C%20%5B30.331867%2C%20-81.673702%5D%2C%20%5B28.31492%2C%20-81.56288%5D%2C%20%5B37.96365%2C%20-122.51184199999999%5D%2C%20%5B37.31927%2C%20-122.04846%5D%2C%20%5B34.0534%2C%20-118.44981000000001%5D%2C%20%5B29.945359999999997%2C%20-90.07888%5D%2C%20%5B39.717282%2C%20-86.124905%5D%2C%20%5B35.191758%2C%20-80.852972%5D%2C%20%5B41.0335%2C%20-77.51122%5D%2C%20%5B33.82594%2C%20-118.23702%5D%2C%20%5B34.17667%2C%20-118.4683%5D%2C%20%5B27.965009999999996%2C%20-82.44511999999999%5D%2C%20%5B33.588219%2C%20-117.517002%5D%2C%20%5B25.93206%2C%20-80.20382%5D%2C%20%5B40.85415%2C%20-73.96588%5D%2C%20%5B35.903634000000004%2C%20-78.584586%5D%2C%20%5B40.7665%2C%20-111.99668999999999%5D%2C%20%5B42.704131%2C%20-82.778487%5D%2C%20%5B27.218675%2C%20-80.33795699999999%5D%2C%20%5B41.78346%2C%20-87.6306%5D%2C%20%5B29.599729999999997%2C%20-95.38719%5D%2C%20%5B39.523542%2C%20-76.34990400000001%5D%2C%20%5B30.422998%2C%20-91.13909100000001%5D%2C%20%5B40.94285%2C%20-73.8037%5D%2C%20%5B42.335809999999995%2C%20-83.12875%5D%2C%20%5B38.981133%2C%20-94.853993%5D%2C%20%5B40.308318%2C%20-78.854838%5D%2C%20%5B29.93575%2C%20-90.0781%5D%2C%20%5B39.96712%2C%20-75.58440999999999%5D%2C%20%5B34.034667999999996%2C%20-118.343728%5D%2C%20%5B41.81731%2C%20-71.3981%5D%2C%20%5B38.79712%2C%20-104.779554%5D%2C%20%5B37.930219%2C%20-120.979028%5D%2C%20%5B30.716959999999997%2C%20-88.22551999999999%5D%2C%20%5B41.800736%2C%20-88.24247700000001%5D%2C%20%5B34.355986%2C%20-77.724067%5D%2C%20%5B32.67102%2C%20-97.36783%5D%2C%20%5B37.74221%2C%20-121.57018000000001%5D%2C%20%5B29.712441%2C%20-95.29019699999999%5D%2C%20%5B40.81797%2C%20-111.94951999999999%5D%2C%20%5B25.643873000000003%2C%20-80.334232%5D%2C%20%5B40.525011%2C%20-74.24371%5D%2C%20%5B41.885282000000004%2C%20-71.378745%5D%2C%20%5B32.57439%2C%20-117.08048000000001%5D%2C%20%5B40.79505%2C%20-73.48692%5D%2C%20%5B33.49707%2C%20-112.13668999999999%5D%2C%20%5B36.95983%2C%20-81.06149%5D%2C%20%5B42.923229%2C%20-85.608876%5D%2C%20%5B43.8832%2C%20-70.33606999999999%5D%2C%20%5B37.595847%2C%20-122.059017%5D%2C%20%5B25.7825%2C%20-80.224335%5D%2C%20%5B40.5392%2C%20-112.01681%5D%2C%20%5B26.632994%2C%20-80.068219%5D%2C%20%5B32.73961%2C%20-116.942838%5D%2C%20%5B34.676759999999994%2C%20-78.78129%5D%2C%20%5B36.96764%2C%20-76.51171%5D%2C%20%5B33.520585%2C%20-86.831012%5D%2C%20%5B33.06835%2C%20-117.29336%5D%2C%20%5B34.06723%2C%20-117.53025%5D%5D%2C%0A%20%20%20%20%20%20%20%20%20%20%20%20%20%20%20%20%7B%0A%20%20%20%20%20%20%20%20%20%20%20%20%20%20%20%20%20%20%20%20minOpacity%3A%200.5%2C%0A%20%20%20%20%20%20%20%20%20%20%20%20%20%20%20%20%20%20%20%20maxZoom%3A%2018%2C%0A%20%20%20%20%20%20%20%20%20%20%20%20%20%20%20%20%20%20%20%20max%3A%201.0%2C%0A%20%20%20%20%20%20%20%20%20%20%20%20%20%20%20%20%20%20%20%20radius%3A%2025%2C%0A%20%20%20%20%20%20%20%20%20%20%20%20%20%20%20%20%20%20%20%20blur%3A%2015%2C%0A%20%20%20%20%20%20%20%20%20%20%20%20%20%20%20%20%20%20%20%20gradient%3A%20null%0A%20%20%20%20%20%20%20%20%20%20%20%20%20%20%20%20%20%20%20%20%7D%29%0A%20%20%20%20%20%20%20%20%20%20%20%20%20%20%20%20.addTo%28map_cb8a6554d38c43af99305620679c4612%29%3B%0A%20%20%20%20%20%20%20%20%0A%3C/script%3E onload=\"this.contentDocument.open();this.contentDocument.write(    decodeURIComponent(this.getAttribute('data-html')));this.contentDocument.close();\" allowfullscreen webkitallowfullscreen mozallowfullscreen></iframe></div></div>"
            ],
            "text/plain": [
              "<folium.folium.Map at 0x7fd8b34e7450>"
            ]
          },
          "metadata": {},
          "execution_count": 38
        }
      ]
    }
  ]
}